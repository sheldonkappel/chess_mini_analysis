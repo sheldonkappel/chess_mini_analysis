{
 "cells": [
  {
   "cell_type": "markdown",
   "metadata": {},
   "source": [
    "# Analysis of Chess Games"
   ]
  },
  {
   "cell_type": "code",
   "execution_count": 143,
   "metadata": {},
   "outputs": [],
   "source": [
    "import pandas as pd\n",
    "import numpy as np\n",
    "import seaborn as sns\n",
    "\n",
    "import plotly.express as px\n",
    "import plotly.graph_objects as go\n",
    "\n",
    "import matplotlib.pyplot as plt\n",
    "\n",
    "%matplotlib inline\n",
    "%reload_ext autoreload\n",
    "%autoreload 2\n",
    "\n",
    "import warnings\n",
    "warnings.filterwarnings('ignore')"
   ]
  },
  {
   "cell_type": "markdown",
   "metadata": {},
   "source": [
    "## convert pgn file to a csv and read in data"
   ]
  },
  {
   "cell_type": "markdown",
   "metadata": {},
   "source": [
    "The following block was the code that I used to convert the PGN file to a csv file. The original file was around 5 GB in\n",
    "size and thus I had some difficulty transforming all of the 6,136,419 games into the csv file. I was able to get 417,115 games\n",
    "before encountering problems however which should be plenty enough for my analysis."
   ]
  },
  {
   "cell_type": "code",
   "execution_count": 144,
   "metadata": {},
   "outputs": [],
   "source": [
    "# from converter.pgn_data import PGNData\n",
    "# pgn_data = PGNData(\"lichess_db_standard_rated_2016-06.pgn\")\n",
    "# result = pgn_data.export()\n",
    "# result.print_summary()"
   ]
  },
  {
   "cell_type": "code",
   "execution_count": 145,
   "metadata": {},
   "outputs": [
    {
     "data": {
      "text/html": [
       "<div>\n",
       "<style scoped>\n",
       "    .dataframe tbody tr th:only-of-type {\n",
       "        vertical-align: middle;\n",
       "    }\n",
       "\n",
       "    .dataframe tbody tr th {\n",
       "        vertical-align: top;\n",
       "    }\n",
       "\n",
       "    .dataframe thead th {\n",
       "        text-align: right;\n",
       "    }\n",
       "</style>\n",
       "<table border=\"1\" class=\"dataframe\">\n",
       "  <thead>\n",
       "    <tr style=\"text-align: right;\">\n",
       "      <th></th>\n",
       "      <th>game_id</th>\n",
       "      <th>game_order</th>\n",
       "      <th>event</th>\n",
       "      <th>site</th>\n",
       "      <th>date_played</th>\n",
       "      <th>round</th>\n",
       "      <th>white</th>\n",
       "      <th>black</th>\n",
       "      <th>result</th>\n",
       "      <th>white_elo</th>\n",
       "      <th>white_rating_diff</th>\n",
       "      <th>black_elo</th>\n",
       "      <th>black_rating_diff</th>\n",
       "      <th>white_title</th>\n",
       "      <th>black_title</th>\n",
       "      <th>winner</th>\n",
       "      <th>winner_elo</th>\n",
       "      <th>loser</th>\n",
       "      <th>loser_elo</th>\n",
       "      <th>winner_loser_elo_diff</th>\n",
       "      <th>eco</th>\n",
       "      <th>termination</th>\n",
       "      <th>time_control</th>\n",
       "      <th>utc_date</th>\n",
       "      <th>utc_time</th>\n",
       "      <th>variant</th>\n",
       "      <th>ply_count</th>\n",
       "      <th>date_created</th>\n",
       "      <th>file_name</th>\n",
       "    </tr>\n",
       "  </thead>\n",
       "  <tbody>\n",
       "    <tr>\n",
       "      <th>0</th>\n",
       "      <td>c7de51c5-c975-4091-8e3f-344244db6c19</td>\n",
       "      <td>1</td>\n",
       "      <td>Rated Bullet game</td>\n",
       "      <td>https://lichess.org/BCsRv65B</td>\n",
       "      <td>????.??.??</td>\n",
       "      <td>?</td>\n",
       "      <td>RonaldUlyssesSwanson</td>\n",
       "      <td>pablokosco</td>\n",
       "      <td>1-0</td>\n",
       "      <td>1601</td>\n",
       "      <td>16.0</td>\n",
       "      <td>1793</td>\n",
       "      <td>-17.0</td>\n",
       "      <td>NaN</td>\n",
       "      <td>NaN</td>\n",
       "      <td>RonaldUlyssesSwanson</td>\n",
       "      <td>1601.0</td>\n",
       "      <td>pablokosco</td>\n",
       "      <td>1793.0</td>\n",
       "      <td>-192</td>\n",
       "      <td>A02</td>\n",
       "      <td>Time forfeit</td>\n",
       "      <td>120+1</td>\n",
       "      <td>2016.05.31</td>\n",
       "      <td>22:00:00</td>\n",
       "      <td>NaN</td>\n",
       "      <td>NaN</td>\n",
       "      <td>2021-10-18T04:29:52+0000</td>\n",
       "      <td>lichess_db_standard_rated_2016-06.pgn</td>\n",
       "    </tr>\n",
       "    <tr>\n",
       "      <th>1</th>\n",
       "      <td>26885815-c556-4509-85f7-95499b5c3227</td>\n",
       "      <td>2</td>\n",
       "      <td>Rated Blitz tournament https://lichess.org/tou...</td>\n",
       "      <td>https://lichess.org/t0tLZkFM</td>\n",
       "      <td>????.??.??</td>\n",
       "      <td>?</td>\n",
       "      <td>wanjiru1234</td>\n",
       "      <td>luiscarrillo</td>\n",
       "      <td>0-1</td>\n",
       "      <td>1532</td>\n",
       "      <td>-12.0</td>\n",
       "      <td>1541</td>\n",
       "      <td>22.0</td>\n",
       "      <td>NaN</td>\n",
       "      <td>NaN</td>\n",
       "      <td>luiscarrillo</td>\n",
       "      <td>1541.0</td>\n",
       "      <td>wanjiru1234</td>\n",
       "      <td>1532.0</td>\n",
       "      <td>9</td>\n",
       "      <td>C45</td>\n",
       "      <td>Normal</td>\n",
       "      <td>300+0</td>\n",
       "      <td>2016.05.31</td>\n",
       "      <td>22:00:04</td>\n",
       "      <td>NaN</td>\n",
       "      <td>NaN</td>\n",
       "      <td>2021-10-18T04:29:52+0000</td>\n",
       "      <td>lichess_db_standard_rated_2016-06.pgn</td>\n",
       "    </tr>\n",
       "    <tr>\n",
       "      <th>2</th>\n",
       "      <td>254c2ec3-8196-453c-ac6f-1c229c3a9c40</td>\n",
       "      <td>3</td>\n",
       "      <td>Rated Classical game</td>\n",
       "      <td>https://lichess.org/hfc6YDk3</td>\n",
       "      <td>????.??.??</td>\n",
       "      <td>?</td>\n",
       "      <td>Gita</td>\n",
       "      <td>youbert</td>\n",
       "      <td>1-0</td>\n",
       "      <td>1646</td>\n",
       "      <td>11.0</td>\n",
       "      <td>1639</td>\n",
       "      <td>-11.0</td>\n",
       "      <td>NaN</td>\n",
       "      <td>NaN</td>\n",
       "      <td>Gita</td>\n",
       "      <td>1646.0</td>\n",
       "      <td>youbert</td>\n",
       "      <td>1639.0</td>\n",
       "      <td>7</td>\n",
       "      <td>C46</td>\n",
       "      <td>Normal</td>\n",
       "      <td>600+0</td>\n",
       "      <td>2016.05.31</td>\n",
       "      <td>22:00:03</td>\n",
       "      <td>NaN</td>\n",
       "      <td>NaN</td>\n",
       "      <td>2021-10-18T04:29:52+0000</td>\n",
       "      <td>lichess_db_standard_rated_2016-06.pgn</td>\n",
       "    </tr>\n",
       "    <tr>\n",
       "      <th>3</th>\n",
       "      <td>4ce971ef-c9fc-4a90-acf9-d19cc4f16bc8</td>\n",
       "      <td>4</td>\n",
       "      <td>Rated Blitz game</td>\n",
       "      <td>https://lichess.org/c45w5L1d</td>\n",
       "      <td>????.??.??</td>\n",
       "      <td>?</td>\n",
       "      <td>juanfield</td>\n",
       "      <td>tryharder17</td>\n",
       "      <td>0-1</td>\n",
       "      <td>1757</td>\n",
       "      <td>-13.0</td>\n",
       "      <td>1659</td>\n",
       "      <td>14.0</td>\n",
       "      <td>NaN</td>\n",
       "      <td>NaN</td>\n",
       "      <td>tryharder17</td>\n",
       "      <td>1659.0</td>\n",
       "      <td>juanfield</td>\n",
       "      <td>1757.0</td>\n",
       "      <td>-98</td>\n",
       "      <td>B00</td>\n",
       "      <td>Normal</td>\n",
       "      <td>300+0</td>\n",
       "      <td>2016.05.31</td>\n",
       "      <td>22:00:00</td>\n",
       "      <td>NaN</td>\n",
       "      <td>NaN</td>\n",
       "      <td>2021-10-18T04:29:52+0000</td>\n",
       "      <td>lichess_db_standard_rated_2016-06.pgn</td>\n",
       "    </tr>\n",
       "    <tr>\n",
       "      <th>4</th>\n",
       "      <td>90f86fb2-e31a-44f0-8005-fedc523b65e8</td>\n",
       "      <td>5</td>\n",
       "      <td>Rated Classical tournament https://lichess.org...</td>\n",
       "      <td>https://lichess.org/VUHFuvfX</td>\n",
       "      <td>????.??.??</td>\n",
       "      <td>?</td>\n",
       "      <td>yousef_amro</td>\n",
       "      <td>ab3n6</td>\n",
       "      <td>0-1</td>\n",
       "      <td>1829</td>\n",
       "      <td>-11.0</td>\n",
       "      <td>1857</td>\n",
       "      <td>11.0</td>\n",
       "      <td>NaN</td>\n",
       "      <td>NaN</td>\n",
       "      <td>ab3n6</td>\n",
       "      <td>1857.0</td>\n",
       "      <td>yousef_amro</td>\n",
       "      <td>1829.0</td>\n",
       "      <td>28</td>\n",
       "      <td>A43</td>\n",
       "      <td>Normal</td>\n",
       "      <td>600+0</td>\n",
       "      <td>2016.05.31</td>\n",
       "      <td>22:00:04</td>\n",
       "      <td>NaN</td>\n",
       "      <td>NaN</td>\n",
       "      <td>2021-10-18T04:29:52+0000</td>\n",
       "      <td>lichess_db_standard_rated_2016-06.pgn</td>\n",
       "    </tr>\n",
       "  </tbody>\n",
       "</table>\n",
       "</div>"
      ],
      "text/plain": [
       "                                game_id  game_order  \\\n",
       "0  c7de51c5-c975-4091-8e3f-344244db6c19           1   \n",
       "1  26885815-c556-4509-85f7-95499b5c3227           2   \n",
       "2  254c2ec3-8196-453c-ac6f-1c229c3a9c40           3   \n",
       "3  4ce971ef-c9fc-4a90-acf9-d19cc4f16bc8           4   \n",
       "4  90f86fb2-e31a-44f0-8005-fedc523b65e8           5   \n",
       "\n",
       "                                               event  \\\n",
       "0                                  Rated Bullet game   \n",
       "1  Rated Blitz tournament https://lichess.org/tou...   \n",
       "2                               Rated Classical game   \n",
       "3                                   Rated Blitz game   \n",
       "4  Rated Classical tournament https://lichess.org...   \n",
       "\n",
       "                           site date_played round                 white  \\\n",
       "0  https://lichess.org/BCsRv65B  ????.??.??     ?  RonaldUlyssesSwanson   \n",
       "1  https://lichess.org/t0tLZkFM  ????.??.??     ?           wanjiru1234   \n",
       "2  https://lichess.org/hfc6YDk3  ????.??.??     ?                  Gita   \n",
       "3  https://lichess.org/c45w5L1d  ????.??.??     ?             juanfield   \n",
       "4  https://lichess.org/VUHFuvfX  ????.??.??     ?           yousef_amro   \n",
       "\n",
       "          black result  white_elo  white_rating_diff  black_elo  \\\n",
       "0    pablokosco    1-0       1601               16.0       1793   \n",
       "1  luiscarrillo    0-1       1532              -12.0       1541   \n",
       "2       youbert    1-0       1646               11.0       1639   \n",
       "3   tryharder17    0-1       1757              -13.0       1659   \n",
       "4         ab3n6    0-1       1829              -11.0       1857   \n",
       "\n",
       "   black_rating_diff white_title black_title                winner  \\\n",
       "0              -17.0         NaN         NaN  RonaldUlyssesSwanson   \n",
       "1               22.0         NaN         NaN          luiscarrillo   \n",
       "2              -11.0         NaN         NaN                  Gita   \n",
       "3               14.0         NaN         NaN           tryharder17   \n",
       "4               11.0         NaN         NaN                 ab3n6   \n",
       "\n",
       "   winner_elo        loser  loser_elo  winner_loser_elo_diff  eco  \\\n",
       "0      1601.0   pablokosco     1793.0                   -192  A02   \n",
       "1      1541.0  wanjiru1234     1532.0                      9  C45   \n",
       "2      1646.0      youbert     1639.0                      7  C46   \n",
       "3      1659.0    juanfield     1757.0                    -98  B00   \n",
       "4      1857.0  yousef_amro     1829.0                     28  A43   \n",
       "\n",
       "    termination time_control    utc_date  utc_time  variant  ply_count  \\\n",
       "0  Time forfeit        120+1  2016.05.31  22:00:00      NaN        NaN   \n",
       "1        Normal        300+0  2016.05.31  22:00:04      NaN        NaN   \n",
       "2        Normal        600+0  2016.05.31  22:00:03      NaN        NaN   \n",
       "3        Normal        300+0  2016.05.31  22:00:00      NaN        NaN   \n",
       "4        Normal        600+0  2016.05.31  22:00:04      NaN        NaN   \n",
       "\n",
       "               date_created                              file_name  \n",
       "0  2021-10-18T04:29:52+0000  lichess_db_standard_rated_2016-06.pgn  \n",
       "1  2021-10-18T04:29:52+0000  lichess_db_standard_rated_2016-06.pgn  \n",
       "2  2021-10-18T04:29:52+0000  lichess_db_standard_rated_2016-06.pgn  \n",
       "3  2021-10-18T04:29:52+0000  lichess_db_standard_rated_2016-06.pgn  \n",
       "4  2021-10-18T04:29:52+0000  lichess_db_standard_rated_2016-06.pgn  "
      ]
     },
     "execution_count": 145,
     "metadata": {},
     "output_type": "execute_result"
    }
   ],
   "source": [
    "# data is from June of 2016; many of the columns can be dropped\n",
    "\n",
    "pd.set_option('display.max_columns', 999)\n",
    "df = pd.read_csv('lichess_db_standard_rated_2016-06_game_info.csv')\n",
    "df.head()"
   ]
  },
  {
   "cell_type": "code",
   "execution_count": 146,
   "metadata": {},
   "outputs": [
    {
     "data": {
      "text/plain": [
       "417115"
      ]
     },
     "execution_count": 146,
     "metadata": {},
     "output_type": "execute_result"
    }
   ],
   "source": [
    "len(df)"
   ]
  },
  {
   "cell_type": "markdown",
   "metadata": {},
   "source": [
    "# Cleaning"
   ]
  },
  {
   "cell_type": "code",
   "execution_count": 147,
   "metadata": {},
   "outputs": [
    {
     "data": {
      "text/html": [
       "<div>\n",
       "<style scoped>\n",
       "    .dataframe tbody tr th:only-of-type {\n",
       "        vertical-align: middle;\n",
       "    }\n",
       "\n",
       "    .dataframe tbody tr th {\n",
       "        vertical-align: top;\n",
       "    }\n",
       "\n",
       "    .dataframe thead th {\n",
       "        text-align: right;\n",
       "    }\n",
       "</style>\n",
       "<table border=\"1\" class=\"dataframe\">\n",
       "  <thead>\n",
       "    <tr style=\"text-align: right;\">\n",
       "      <th></th>\n",
       "      <th>event</th>\n",
       "      <th>result</th>\n",
       "      <th>white_elo</th>\n",
       "      <th>white_rating_diff</th>\n",
       "      <th>black_elo</th>\n",
       "      <th>black_rating_diff</th>\n",
       "      <th>white_title</th>\n",
       "      <th>black_title</th>\n",
       "      <th>winner_loser_elo_diff</th>\n",
       "      <th>eco</th>\n",
       "      <th>termination</th>\n",
       "      <th>time_control</th>\n",
       "    </tr>\n",
       "  </thead>\n",
       "  <tbody>\n",
       "    <tr>\n",
       "      <th>0</th>\n",
       "      <td>Rated Bullet game</td>\n",
       "      <td>1-0</td>\n",
       "      <td>1601</td>\n",
       "      <td>16.0</td>\n",
       "      <td>1793</td>\n",
       "      <td>-17.0</td>\n",
       "      <td>NaN</td>\n",
       "      <td>NaN</td>\n",
       "      <td>-192</td>\n",
       "      <td>A02</td>\n",
       "      <td>Time forfeit</td>\n",
       "      <td>120+1</td>\n",
       "    </tr>\n",
       "    <tr>\n",
       "      <th>1</th>\n",
       "      <td>Rated Blitz tournament https://lichess.org/tou...</td>\n",
       "      <td>0-1</td>\n",
       "      <td>1532</td>\n",
       "      <td>-12.0</td>\n",
       "      <td>1541</td>\n",
       "      <td>22.0</td>\n",
       "      <td>NaN</td>\n",
       "      <td>NaN</td>\n",
       "      <td>9</td>\n",
       "      <td>C45</td>\n",
       "      <td>Normal</td>\n",
       "      <td>300+0</td>\n",
       "    </tr>\n",
       "    <tr>\n",
       "      <th>2</th>\n",
       "      <td>Rated Classical game</td>\n",
       "      <td>1-0</td>\n",
       "      <td>1646</td>\n",
       "      <td>11.0</td>\n",
       "      <td>1639</td>\n",
       "      <td>-11.0</td>\n",
       "      <td>NaN</td>\n",
       "      <td>NaN</td>\n",
       "      <td>7</td>\n",
       "      <td>C46</td>\n",
       "      <td>Normal</td>\n",
       "      <td>600+0</td>\n",
       "    </tr>\n",
       "    <tr>\n",
       "      <th>3</th>\n",
       "      <td>Rated Blitz game</td>\n",
       "      <td>0-1</td>\n",
       "      <td>1757</td>\n",
       "      <td>-13.0</td>\n",
       "      <td>1659</td>\n",
       "      <td>14.0</td>\n",
       "      <td>NaN</td>\n",
       "      <td>NaN</td>\n",
       "      <td>-98</td>\n",
       "      <td>B00</td>\n",
       "      <td>Normal</td>\n",
       "      <td>300+0</td>\n",
       "    </tr>\n",
       "    <tr>\n",
       "      <th>4</th>\n",
       "      <td>Rated Classical tournament https://lichess.org...</td>\n",
       "      <td>0-1</td>\n",
       "      <td>1829</td>\n",
       "      <td>-11.0</td>\n",
       "      <td>1857</td>\n",
       "      <td>11.0</td>\n",
       "      <td>NaN</td>\n",
       "      <td>NaN</td>\n",
       "      <td>28</td>\n",
       "      <td>A43</td>\n",
       "      <td>Normal</td>\n",
       "      <td>600+0</td>\n",
       "    </tr>\n",
       "  </tbody>\n",
       "</table>\n",
       "</div>"
      ],
      "text/plain": [
       "                                               event result  white_elo  \\\n",
       "0                                  Rated Bullet game    1-0       1601   \n",
       "1  Rated Blitz tournament https://lichess.org/tou...    0-1       1532   \n",
       "2                               Rated Classical game    1-0       1646   \n",
       "3                                   Rated Blitz game    0-1       1757   \n",
       "4  Rated Classical tournament https://lichess.org...    0-1       1829   \n",
       "\n",
       "   white_rating_diff  black_elo  black_rating_diff white_title black_title  \\\n",
       "0               16.0       1793              -17.0         NaN         NaN   \n",
       "1              -12.0       1541               22.0         NaN         NaN   \n",
       "2               11.0       1639              -11.0         NaN         NaN   \n",
       "3              -13.0       1659               14.0         NaN         NaN   \n",
       "4              -11.0       1857               11.0         NaN         NaN   \n",
       "\n",
       "   winner_loser_elo_diff  eco   termination time_control  \n",
       "0                   -192  A02  Time forfeit        120+1  \n",
       "1                      9  C45        Normal        300+0  \n",
       "2                      7  C46        Normal        600+0  \n",
       "3                    -98  B00        Normal        300+0  \n",
       "4                     28  A43        Normal        600+0  "
      ]
     },
     "execution_count": 147,
     "metadata": {},
     "output_type": "execute_result"
    }
   ],
   "source": [
    "# dropping columns here\n",
    "\n",
    "columns_to_drop = ['game_id', 'game_order', 'date_played', 'round', 'white', 'black', 'winner', 'winner_elo', \n",
    "'utc_date', 'utc_time', 'file_name', 'date_created', 'site', 'loser', 'loser_elo', 'variant', 'ply_count']\n",
    "\n",
    "df.drop(columns_to_drop, axis = 1, inplace = True)\n",
    "df.head()"
   ]
  },
  {
   "cell_type": "code",
   "execution_count": 148,
   "metadata": {},
   "outputs": [
    {
     "data": {
      "text/html": [
       "<div>\n",
       "<style scoped>\n",
       "    .dataframe tbody tr th:only-of-type {\n",
       "        vertical-align: middle;\n",
       "    }\n",
       "\n",
       "    .dataframe tbody tr th {\n",
       "        vertical-align: top;\n",
       "    }\n",
       "\n",
       "    .dataframe thead th {\n",
       "        text-align: right;\n",
       "    }\n",
       "</style>\n",
       "<table border=\"1\" class=\"dataframe\">\n",
       "  <thead>\n",
       "    <tr style=\"text-align: right;\">\n",
       "      <th></th>\n",
       "      <th>event</th>\n",
       "      <th>result</th>\n",
       "      <th>white_elo</th>\n",
       "      <th>white_rating_diff</th>\n",
       "      <th>black_elo</th>\n",
       "      <th>black_rating_diff</th>\n",
       "      <th>white_title</th>\n",
       "      <th>black_title</th>\n",
       "      <th>winner_loser_elo_diff</th>\n",
       "      <th>eco</th>\n",
       "      <th>termination</th>\n",
       "      <th>time_control</th>\n",
       "    </tr>\n",
       "  </thead>\n",
       "  <tbody>\n",
       "    <tr>\n",
       "      <th>0</th>\n",
       "      <td>Rated Bullet game</td>\n",
       "      <td>1-0</td>\n",
       "      <td>1601</td>\n",
       "      <td>16.0</td>\n",
       "      <td>1793</td>\n",
       "      <td>-17.0</td>\n",
       "      <td>NaN</td>\n",
       "      <td>NaN</td>\n",
       "      <td>-192</td>\n",
       "      <td>A02</td>\n",
       "      <td>Time forfeit</td>\n",
       "      <td>120+1</td>\n",
       "    </tr>\n",
       "    <tr>\n",
       "      <th>1</th>\n",
       "      <td>Rated Blitz tournament</td>\n",
       "      <td>0-1</td>\n",
       "      <td>1532</td>\n",
       "      <td>-12.0</td>\n",
       "      <td>1541</td>\n",
       "      <td>22.0</td>\n",
       "      <td>NaN</td>\n",
       "      <td>NaN</td>\n",
       "      <td>9</td>\n",
       "      <td>C45</td>\n",
       "      <td>Normal</td>\n",
       "      <td>300+0</td>\n",
       "    </tr>\n",
       "    <tr>\n",
       "      <th>2</th>\n",
       "      <td>Rated Classical game</td>\n",
       "      <td>1-0</td>\n",
       "      <td>1646</td>\n",
       "      <td>11.0</td>\n",
       "      <td>1639</td>\n",
       "      <td>-11.0</td>\n",
       "      <td>NaN</td>\n",
       "      <td>NaN</td>\n",
       "      <td>7</td>\n",
       "      <td>C46</td>\n",
       "      <td>Normal</td>\n",
       "      <td>600+0</td>\n",
       "    </tr>\n",
       "    <tr>\n",
       "      <th>3</th>\n",
       "      <td>Rated Blitz game</td>\n",
       "      <td>0-1</td>\n",
       "      <td>1757</td>\n",
       "      <td>-13.0</td>\n",
       "      <td>1659</td>\n",
       "      <td>14.0</td>\n",
       "      <td>NaN</td>\n",
       "      <td>NaN</td>\n",
       "      <td>-98</td>\n",
       "      <td>B00</td>\n",
       "      <td>Normal</td>\n",
       "      <td>300+0</td>\n",
       "    </tr>\n",
       "    <tr>\n",
       "      <th>4</th>\n",
       "      <td>Rated Classical tournament</td>\n",
       "      <td>0-1</td>\n",
       "      <td>1829</td>\n",
       "      <td>-11.0</td>\n",
       "      <td>1857</td>\n",
       "      <td>11.0</td>\n",
       "      <td>NaN</td>\n",
       "      <td>NaN</td>\n",
       "      <td>28</td>\n",
       "      <td>A43</td>\n",
       "      <td>Normal</td>\n",
       "      <td>600+0</td>\n",
       "    </tr>\n",
       "  </tbody>\n",
       "</table>\n",
       "</div>"
      ],
      "text/plain": [
       "                        event result  white_elo  white_rating_diff  black_elo  \\\n",
       "0           Rated Bullet game    1-0       1601               16.0       1793   \n",
       "1      Rated Blitz tournament    0-1       1532              -12.0       1541   \n",
       "2        Rated Classical game    1-0       1646               11.0       1639   \n",
       "3            Rated Blitz game    0-1       1757              -13.0       1659   \n",
       "4  Rated Classical tournament    0-1       1829              -11.0       1857   \n",
       "\n",
       "   black_rating_diff white_title black_title  winner_loser_elo_diff  eco  \\\n",
       "0              -17.0         NaN         NaN                   -192  A02   \n",
       "1               22.0         NaN         NaN                      9  C45   \n",
       "2              -11.0         NaN         NaN                      7  C46   \n",
       "3               14.0         NaN         NaN                    -98  B00   \n",
       "4               11.0         NaN         NaN                     28  A43   \n",
       "\n",
       "    termination time_control  \n",
       "0  Time forfeit        120+1  \n",
       "1        Normal        300+0  \n",
       "2        Normal        600+0  \n",
       "3        Normal        300+0  \n",
       "4        Normal        600+0  "
      ]
     },
     "execution_count": 148,
     "metadata": {},
     "output_type": "execute_result"
    }
   ],
   "source": [
    "# the 'event' column has the url's for all of the tournament games; I will remove the url from those now\n",
    "for index, event in enumerate(df['event']):\n",
    "    if event.find(' https://') != -1: \n",
    "        df.at[index, 'event'] = event[0 : event.find(' https://')]\n",
    "\n",
    "df.head()"
   ]
  },
  {
   "cell_type": "code",
   "execution_count": 149,
   "metadata": {},
   "outputs": [
    {
     "data": {
      "text/plain": [
       "Rated Blitz game              159246\n",
       "Rated Classical game          103892\n",
       "Rated Bullet game              88258\n",
       "Rated Bullet tournament        33869\n",
       "Rated Blitz tournament         22931\n",
       "Rated Classical tournament      7285\n",
       "Rated Correspondence game       1634\n",
       "Name: event, dtype: int64"
      ]
     },
     "execution_count": 149,
     "metadata": {},
     "output_type": "execute_result"
    }
   ],
   "source": [
    "# all of the url's from the \"tournament\" events are now removed\n",
    "\n",
    "df['event'].value_counts()"
   ]
  },
  {
   "cell_type": "code",
   "execution_count": 150,
   "metadata": {},
   "outputs": [
    {
     "data": {
      "text/plain": [
       "['1-0', '0-1', '1/2-1/2', '*']"
      ]
     },
     "execution_count": 150,
     "metadata": {},
     "output_type": "execute_result"
    }
   ],
   "source": [
    "# let's look at all the possible values for the \"result\" column\n",
    "list(df['result'].unique())"
   ]
  },
  {
   "cell_type": "code",
   "execution_count": 151,
   "metadata": {},
   "outputs": [
    {
     "data": {
      "text/plain": [
       "['1-0', '0-1', '1/2-1/2']"
      ]
     },
     "execution_count": 151,
     "metadata": {},
     "output_type": "execute_result"
    }
   ],
   "source": [
    "# \"1-0\" signifies a win for White, \"0-1\" signifies a win for Black, \"1/2 - 1/2\" signifies a draw, and \"*\" stands for everything else\n",
    "# I will remove all the other results here\n",
    "\n",
    "df.drop(index = df[df['result'] == '*'].index, inplace = True)\n",
    "list(df['result'].unique())"
   ]
  },
  {
   "cell_type": "code",
   "execution_count": 152,
   "metadata": {},
   "outputs": [
    {
     "data": {
      "text/plain": [
       "Normal              282938\n",
       "Time forfeit        132558\n",
       "Abandoned             1485\n",
       "Rules infraction         5\n",
       "Name: termination, dtype: int64"
      ]
     },
     "execution_count": 152,
     "metadata": {},
     "output_type": "execute_result"
    }
   ],
   "source": [
    "# now look at values for the \"termination\" column\n",
    "df['termination'].value_counts()"
   ]
  },
  {
   "cell_type": "code",
   "execution_count": 153,
   "metadata": {},
   "outputs": [],
   "source": [
    "# a value of \"abandoned\" can include a person both voluntarily leaving the lichess lobby (if perhaps they got frustrated and didn't click the \"resign\" button) \n",
    "# or an internet disconnection; however, because of the first reasoning, I believe I would be throwing away a lot of good data so I will opt to\n",
    "# keeep this in; I will however remove the \"rules infraction\" results\n",
    "\n",
    "df.drop(index = df[df['termination'] == 'Rules infraction'].index, inplace = True)"
   ]
  },
  {
   "cell_type": "code",
   "execution_count": 154,
   "metadata": {},
   "outputs": [
    {
     "data": {
      "text/plain": [
       "NaN    414958\n",
       "FM        569\n",
       "NM        454\n",
       "IM        436\n",
       "LM        389\n",
       "CM        113\n",
       "GM         54\n",
       "WFM         8\n",
       "Name: white_title, dtype: int64"
      ]
     },
     "execution_count": 154,
     "metadata": {},
     "output_type": "execute_result"
    }
   ],
   "source": [
    "# now note the vast amount of NaN values for \"white_title\" and \"black_title\"; these simply just signify the player does not have a master\n",
    "# title (which is obviously the majority of the playerbase)\n",
    "\n",
    "df['white_title'].value_counts(dropna = False) "
   ]
  },
  {
   "cell_type": "code",
   "execution_count": 155,
   "metadata": {},
   "outputs": [
    {
     "data": {
      "text/plain": [
       "NaN    414931\n",
       "FM        594\n",
       "NM        449\n",
       "IM        423\n",
       "LM        409\n",
       "CM        113\n",
       "GM         52\n",
       "WFM        10\n",
       "Name: black_title, dtype: int64"
      ]
     },
     "execution_count": 155,
     "metadata": {},
     "output_type": "execute_result"
    }
   ],
   "source": [
    "df['black_title'].value_counts(dropna = False) "
   ]
  },
  {
   "cell_type": "code",
   "execution_count": 156,
   "metadata": {},
   "outputs": [
    {
     "data": {
      "text/html": [
       "<div>\n",
       "<style scoped>\n",
       "    .dataframe tbody tr th:only-of-type {\n",
       "        vertical-align: middle;\n",
       "    }\n",
       "\n",
       "    .dataframe tbody tr th {\n",
       "        vertical-align: top;\n",
       "    }\n",
       "\n",
       "    .dataframe thead th {\n",
       "        text-align: right;\n",
       "    }\n",
       "</style>\n",
       "<table border=\"1\" class=\"dataframe\">\n",
       "  <thead>\n",
       "    <tr style=\"text-align: right;\">\n",
       "      <th></th>\n",
       "      <th>event</th>\n",
       "      <th>result</th>\n",
       "      <th>white_elo</th>\n",
       "      <th>white_rating_diff</th>\n",
       "      <th>black_elo</th>\n",
       "      <th>black_rating_diff</th>\n",
       "      <th>white_title</th>\n",
       "      <th>black_title</th>\n",
       "      <th>winner_loser_elo_diff</th>\n",
       "      <th>eco</th>\n",
       "      <th>termination</th>\n",
       "      <th>time_control</th>\n",
       "    </tr>\n",
       "  </thead>\n",
       "  <tbody>\n",
       "    <tr>\n",
       "      <th>0</th>\n",
       "      <td>Rated Bullet game</td>\n",
       "      <td>1-0</td>\n",
       "      <td>1601</td>\n",
       "      <td>16.0</td>\n",
       "      <td>1793</td>\n",
       "      <td>-17.0</td>\n",
       "      <td>no_title</td>\n",
       "      <td>no_title</td>\n",
       "      <td>-192</td>\n",
       "      <td>A02</td>\n",
       "      <td>Time forfeit</td>\n",
       "      <td>120+1</td>\n",
       "    </tr>\n",
       "    <tr>\n",
       "      <th>1</th>\n",
       "      <td>Rated Blitz tournament</td>\n",
       "      <td>0-1</td>\n",
       "      <td>1532</td>\n",
       "      <td>-12.0</td>\n",
       "      <td>1541</td>\n",
       "      <td>22.0</td>\n",
       "      <td>no_title</td>\n",
       "      <td>no_title</td>\n",
       "      <td>9</td>\n",
       "      <td>C45</td>\n",
       "      <td>Normal</td>\n",
       "      <td>300+0</td>\n",
       "    </tr>\n",
       "    <tr>\n",
       "      <th>2</th>\n",
       "      <td>Rated Classical game</td>\n",
       "      <td>1-0</td>\n",
       "      <td>1646</td>\n",
       "      <td>11.0</td>\n",
       "      <td>1639</td>\n",
       "      <td>-11.0</td>\n",
       "      <td>no_title</td>\n",
       "      <td>no_title</td>\n",
       "      <td>7</td>\n",
       "      <td>C46</td>\n",
       "      <td>Normal</td>\n",
       "      <td>600+0</td>\n",
       "    </tr>\n",
       "    <tr>\n",
       "      <th>3</th>\n",
       "      <td>Rated Blitz game</td>\n",
       "      <td>0-1</td>\n",
       "      <td>1757</td>\n",
       "      <td>-13.0</td>\n",
       "      <td>1659</td>\n",
       "      <td>14.0</td>\n",
       "      <td>no_title</td>\n",
       "      <td>no_title</td>\n",
       "      <td>-98</td>\n",
       "      <td>B00</td>\n",
       "      <td>Normal</td>\n",
       "      <td>300+0</td>\n",
       "    </tr>\n",
       "    <tr>\n",
       "      <th>4</th>\n",
       "      <td>Rated Classical tournament</td>\n",
       "      <td>0-1</td>\n",
       "      <td>1829</td>\n",
       "      <td>-11.0</td>\n",
       "      <td>1857</td>\n",
       "      <td>11.0</td>\n",
       "      <td>no_title</td>\n",
       "      <td>no_title</td>\n",
       "      <td>28</td>\n",
       "      <td>A43</td>\n",
       "      <td>Normal</td>\n",
       "      <td>600+0</td>\n",
       "    </tr>\n",
       "  </tbody>\n",
       "</table>\n",
       "</div>"
      ],
      "text/plain": [
       "                        event result  white_elo  white_rating_diff  black_elo  \\\n",
       "0           Rated Bullet game    1-0       1601               16.0       1793   \n",
       "1      Rated Blitz tournament    0-1       1532              -12.0       1541   \n",
       "2        Rated Classical game    1-0       1646               11.0       1639   \n",
       "3            Rated Blitz game    0-1       1757              -13.0       1659   \n",
       "4  Rated Classical tournament    0-1       1829              -11.0       1857   \n",
       "\n",
       "   black_rating_diff white_title black_title  winner_loser_elo_diff  eco  \\\n",
       "0              -17.0    no_title    no_title                   -192  A02   \n",
       "1               22.0    no_title    no_title                      9  C45   \n",
       "2              -11.0    no_title    no_title                      7  C46   \n",
       "3               14.0    no_title    no_title                    -98  B00   \n",
       "4               11.0    no_title    no_title                     28  A43   \n",
       "\n",
       "    termination time_control  \n",
       "0  Time forfeit        120+1  \n",
       "1        Normal        300+0  \n",
       "2        Normal        600+0  \n",
       "3        Normal        300+0  \n",
       "4        Normal        600+0  "
      ]
     },
     "execution_count": 156,
     "metadata": {},
     "output_type": "execute_result"
    }
   ],
   "source": [
    "# updating these NaN values to be more represenative and less confusing\n",
    "\n",
    "df[['white_title', 'black_title']] = df[['white_title', 'black_title']].fillna('no_title')\n",
    "df.head()"
   ]
  },
  {
   "cell_type": "code",
   "execution_count": 157,
   "metadata": {},
   "outputs": [
    {
     "data": {
      "text/plain": [
       "event                      0\n",
       "result                     0\n",
       "white_elo                  0\n",
       "white_rating_diff        279\n",
       "black_elo                  0\n",
       "black_rating_diff        279\n",
       "white_title                0\n",
       "black_title                0\n",
       "winner_loser_elo_diff      0\n",
       "eco                        0\n",
       "termination                0\n",
       "time_control               0\n",
       "dtype: int64"
      ]
     },
     "execution_count": 157,
     "metadata": {},
     "output_type": "execute_result"
    }
   ],
   "source": [
    "# check to see if I left any NaN values\n",
    "\n",
    "df.isna().sum()"
   ]
  },
  {
   "cell_type": "code",
   "execution_count": 158,
   "metadata": {},
   "outputs": [
    {
     "data": {
      "text/plain": [
       "False"
      ]
     },
     "execution_count": 158,
     "metadata": {},
     "output_type": "execute_result"
    }
   ],
   "source": [
    "# let's now drop those values as well, just to keep everything consistent\n",
    "df.dropna(inplace = True)\n",
    "\n",
    "# checking one more time for any NA values -- none found\n",
    "df.isnull().values.any()"
   ]
  },
  {
   "cell_type": "code",
   "execution_count": 159,
   "metadata": {},
   "outputs": [
    {
     "data": {
      "text/html": [
       "<div>\n",
       "<style scoped>\n",
       "    .dataframe tbody tr th:only-of-type {\n",
       "        vertical-align: middle;\n",
       "    }\n",
       "\n",
       "    .dataframe tbody tr th {\n",
       "        vertical-align: top;\n",
       "    }\n",
       "\n",
       "    .dataframe thead th {\n",
       "        text-align: right;\n",
       "    }\n",
       "</style>\n",
       "<table border=\"1\" class=\"dataframe\">\n",
       "  <thead>\n",
       "    <tr style=\"text-align: right;\">\n",
       "      <th></th>\n",
       "      <th>event</th>\n",
       "      <th>result</th>\n",
       "      <th>white_elo</th>\n",
       "      <th>white_rating_diff</th>\n",
       "      <th>black_elo</th>\n",
       "      <th>black_rating_diff</th>\n",
       "      <th>white_title</th>\n",
       "      <th>black_title</th>\n",
       "      <th>winner_loser_elo_diff</th>\n",
       "      <th>eco</th>\n",
       "      <th>termination</th>\n",
       "      <th>time_control</th>\n",
       "    </tr>\n",
       "  </thead>\n",
       "  <tbody>\n",
       "    <tr>\n",
       "      <th>0</th>\n",
       "      <td>Rated Bullet game</td>\n",
       "      <td>1-0</td>\n",
       "      <td>1601</td>\n",
       "      <td>16.0</td>\n",
       "      <td>1793</td>\n",
       "      <td>-17.0</td>\n",
       "      <td>no_title</td>\n",
       "      <td>no_title</td>\n",
       "      <td>-192</td>\n",
       "      <td>A02</td>\n",
       "      <td>Time forfeit</td>\n",
       "      <td>120+1</td>\n",
       "    </tr>\n",
       "    <tr>\n",
       "      <th>1</th>\n",
       "      <td>Rated Blitz tournament</td>\n",
       "      <td>0-1</td>\n",
       "      <td>1532</td>\n",
       "      <td>-12.0</td>\n",
       "      <td>1541</td>\n",
       "      <td>22.0</td>\n",
       "      <td>no_title</td>\n",
       "      <td>no_title</td>\n",
       "      <td>9</td>\n",
       "      <td>C45</td>\n",
       "      <td>Normal</td>\n",
       "      <td>300+0</td>\n",
       "    </tr>\n",
       "    <tr>\n",
       "      <th>2</th>\n",
       "      <td>Rated Classical game</td>\n",
       "      <td>1-0</td>\n",
       "      <td>1646</td>\n",
       "      <td>11.0</td>\n",
       "      <td>1639</td>\n",
       "      <td>-11.0</td>\n",
       "      <td>no_title</td>\n",
       "      <td>no_title</td>\n",
       "      <td>7</td>\n",
       "      <td>C46</td>\n",
       "      <td>Normal</td>\n",
       "      <td>600+0</td>\n",
       "    </tr>\n",
       "    <tr>\n",
       "      <th>3</th>\n",
       "      <td>Rated Blitz game</td>\n",
       "      <td>0-1</td>\n",
       "      <td>1757</td>\n",
       "      <td>-13.0</td>\n",
       "      <td>1659</td>\n",
       "      <td>14.0</td>\n",
       "      <td>no_title</td>\n",
       "      <td>no_title</td>\n",
       "      <td>-98</td>\n",
       "      <td>B00</td>\n",
       "      <td>Normal</td>\n",
       "      <td>300+0</td>\n",
       "    </tr>\n",
       "    <tr>\n",
       "      <th>4</th>\n",
       "      <td>Rated Classical tournament</td>\n",
       "      <td>0-1</td>\n",
       "      <td>1829</td>\n",
       "      <td>-11.0</td>\n",
       "      <td>1857</td>\n",
       "      <td>11.0</td>\n",
       "      <td>no_title</td>\n",
       "      <td>no_title</td>\n",
       "      <td>28</td>\n",
       "      <td>A43</td>\n",
       "      <td>Normal</td>\n",
       "      <td>600+0</td>\n",
       "    </tr>\n",
       "  </tbody>\n",
       "</table>\n",
       "</div>"
      ],
      "text/plain": [
       "                        event result  white_elo  white_rating_diff  black_elo  \\\n",
       "0           Rated Bullet game    1-0       1601               16.0       1793   \n",
       "1      Rated Blitz tournament    0-1       1532              -12.0       1541   \n",
       "2        Rated Classical game    1-0       1646               11.0       1639   \n",
       "3            Rated Blitz game    0-1       1757              -13.0       1659   \n",
       "4  Rated Classical tournament    0-1       1829              -11.0       1857   \n",
       "\n",
       "   black_rating_diff white_title black_title  winner_loser_elo_diff  eco  \\\n",
       "0              -17.0    no_title    no_title                   -192  A02   \n",
       "1               22.0    no_title    no_title                      9  C45   \n",
       "2              -11.0    no_title    no_title                      7  C46   \n",
       "3               14.0    no_title    no_title                    -98  B00   \n",
       "4               11.0    no_title    no_title                     28  A43   \n",
       "\n",
       "    termination time_control  \n",
       "0  Time forfeit        120+1  \n",
       "1        Normal        300+0  \n",
       "2        Normal        600+0  \n",
       "3        Normal        300+0  \n",
       "4        Normal        600+0  "
      ]
     },
     "execution_count": 159,
     "metadata": {},
     "output_type": "execute_result"
    }
   ],
   "source": [
    "df.head()"
   ]
  },
  {
   "cell_type": "code",
   "execution_count": 160,
   "metadata": {},
   "outputs": [
    {
     "data": {
      "text/html": [
       "<div>\n",
       "<style scoped>\n",
       "    .dataframe tbody tr th:only-of-type {\n",
       "        vertical-align: middle;\n",
       "    }\n",
       "\n",
       "    .dataframe tbody tr th {\n",
       "        vertical-align: top;\n",
       "    }\n",
       "\n",
       "    .dataframe thead th {\n",
       "        text-align: right;\n",
       "    }\n",
       "</style>\n",
       "<table border=\"1\" class=\"dataframe\">\n",
       "  <thead>\n",
       "    <tr style=\"text-align: right;\">\n",
       "      <th></th>\n",
       "      <th>event</th>\n",
       "      <th>result</th>\n",
       "      <th>white_elo</th>\n",
       "      <th>white_rating_diff</th>\n",
       "      <th>black_elo</th>\n",
       "      <th>black_rating_diff</th>\n",
       "      <th>white_title</th>\n",
       "      <th>black_title</th>\n",
       "      <th>winner_loser_elo_diff</th>\n",
       "      <th>eco</th>\n",
       "      <th>termination</th>\n",
       "      <th>time_control</th>\n",
       "      <th>avg_elo_between_players</th>\n",
       "    </tr>\n",
       "  </thead>\n",
       "  <tbody>\n",
       "    <tr>\n",
       "      <th>0</th>\n",
       "      <td>Rated Bullet game</td>\n",
       "      <td>1-0</td>\n",
       "      <td>1601</td>\n",
       "      <td>16.0</td>\n",
       "      <td>1793</td>\n",
       "      <td>-17.0</td>\n",
       "      <td>no_title</td>\n",
       "      <td>no_title</td>\n",
       "      <td>-192</td>\n",
       "      <td>A02</td>\n",
       "      <td>Time forfeit</td>\n",
       "      <td>120+1</td>\n",
       "      <td>1697.0</td>\n",
       "    </tr>\n",
       "    <tr>\n",
       "      <th>1</th>\n",
       "      <td>Rated Blitz tournament</td>\n",
       "      <td>0-1</td>\n",
       "      <td>1532</td>\n",
       "      <td>-12.0</td>\n",
       "      <td>1541</td>\n",
       "      <td>22.0</td>\n",
       "      <td>no_title</td>\n",
       "      <td>no_title</td>\n",
       "      <td>9</td>\n",
       "      <td>C45</td>\n",
       "      <td>Normal</td>\n",
       "      <td>300+0</td>\n",
       "      <td>1536.5</td>\n",
       "    </tr>\n",
       "    <tr>\n",
       "      <th>2</th>\n",
       "      <td>Rated Classical game</td>\n",
       "      <td>1-0</td>\n",
       "      <td>1646</td>\n",
       "      <td>11.0</td>\n",
       "      <td>1639</td>\n",
       "      <td>-11.0</td>\n",
       "      <td>no_title</td>\n",
       "      <td>no_title</td>\n",
       "      <td>7</td>\n",
       "      <td>C46</td>\n",
       "      <td>Normal</td>\n",
       "      <td>600+0</td>\n",
       "      <td>1642.5</td>\n",
       "    </tr>\n",
       "    <tr>\n",
       "      <th>3</th>\n",
       "      <td>Rated Blitz game</td>\n",
       "      <td>0-1</td>\n",
       "      <td>1757</td>\n",
       "      <td>-13.0</td>\n",
       "      <td>1659</td>\n",
       "      <td>14.0</td>\n",
       "      <td>no_title</td>\n",
       "      <td>no_title</td>\n",
       "      <td>-98</td>\n",
       "      <td>B00</td>\n",
       "      <td>Normal</td>\n",
       "      <td>300+0</td>\n",
       "      <td>1708.0</td>\n",
       "    </tr>\n",
       "    <tr>\n",
       "      <th>4</th>\n",
       "      <td>Rated Classical tournament</td>\n",
       "      <td>0-1</td>\n",
       "      <td>1829</td>\n",
       "      <td>-11.0</td>\n",
       "      <td>1857</td>\n",
       "      <td>11.0</td>\n",
       "      <td>no_title</td>\n",
       "      <td>no_title</td>\n",
       "      <td>28</td>\n",
       "      <td>A43</td>\n",
       "      <td>Normal</td>\n",
       "      <td>600+0</td>\n",
       "      <td>1843.0</td>\n",
       "    </tr>\n",
       "  </tbody>\n",
       "</table>\n",
       "</div>"
      ],
      "text/plain": [
       "                        event result  white_elo  white_rating_diff  black_elo  \\\n",
       "0           Rated Bullet game    1-0       1601               16.0       1793   \n",
       "1      Rated Blitz tournament    0-1       1532              -12.0       1541   \n",
       "2        Rated Classical game    1-0       1646               11.0       1639   \n",
       "3            Rated Blitz game    0-1       1757              -13.0       1659   \n",
       "4  Rated Classical tournament    0-1       1829              -11.0       1857   \n",
       "\n",
       "   black_rating_diff white_title black_title  winner_loser_elo_diff  eco  \\\n",
       "0              -17.0    no_title    no_title                   -192  A02   \n",
       "1               22.0    no_title    no_title                      9  C45   \n",
       "2              -11.0    no_title    no_title                      7  C46   \n",
       "3               14.0    no_title    no_title                    -98  B00   \n",
       "4               11.0    no_title    no_title                     28  A43   \n",
       "\n",
       "    termination time_control  avg_elo_between_players  \n",
       "0  Time forfeit        120+1                   1697.0  \n",
       "1        Normal        300+0                   1536.5  \n",
       "2        Normal        600+0                   1642.5  \n",
       "3        Normal        300+0                   1708.0  \n",
       "4        Normal        600+0                   1843.0  "
      ]
     },
     "execution_count": 160,
     "metadata": {},
     "output_type": "execute_result"
    }
   ],
   "source": [
    "# create a column for the average elo between the two players\n",
    "\n",
    "df['avg_elo_between_players'] = (df['white_elo'] + df['black_elo']) / 2\n",
    "df.head()"
   ]
  },
  {
   "cell_type": "code",
   "execution_count": 161,
   "metadata": {},
   "outputs": [
    {
     "data": {
      "text/plain": [
       "416702"
      ]
     },
     "execution_count": 161,
     "metadata": {},
     "output_type": "execute_result"
    }
   ],
   "source": [
    "# output the total number of rows we have now\n",
    "\n",
    "df.shape[0]"
   ]
  },
  {
   "cell_type": "code",
   "execution_count": 162,
   "metadata": {},
   "outputs": [],
   "source": [
    "clean_df = df.copy()"
   ]
  },
  {
   "cell_type": "markdown",
   "metadata": {},
   "source": [
    "# Analysis"
   ]
  },
  {
   "cell_type": "code",
   "execution_count": 163,
   "metadata": {},
   "outputs": [
    {
     "data": {
      "text/html": [
       "<div>\n",
       "<style scoped>\n",
       "    .dataframe tbody tr th:only-of-type {\n",
       "        vertical-align: middle;\n",
       "    }\n",
       "\n",
       "    .dataframe tbody tr th {\n",
       "        vertical-align: top;\n",
       "    }\n",
       "\n",
       "    .dataframe thead th {\n",
       "        text-align: right;\n",
       "    }\n",
       "</style>\n",
       "<table border=\"1\" class=\"dataframe\">\n",
       "  <thead>\n",
       "    <tr style=\"text-align: right;\">\n",
       "      <th></th>\n",
       "      <th>event</th>\n",
       "      <th>result</th>\n",
       "      <th>white_elo</th>\n",
       "      <th>white_rating_diff</th>\n",
       "      <th>black_elo</th>\n",
       "      <th>black_rating_diff</th>\n",
       "      <th>white_title</th>\n",
       "      <th>black_title</th>\n",
       "      <th>winner_loser_elo_diff</th>\n",
       "      <th>eco</th>\n",
       "      <th>termination</th>\n",
       "      <th>time_control</th>\n",
       "      <th>avg_elo_between_players</th>\n",
       "      <th>eco_fl</th>\n",
       "    </tr>\n",
       "  </thead>\n",
       "  <tbody>\n",
       "    <tr>\n",
       "      <th>0</th>\n",
       "      <td>Rated Bullet game</td>\n",
       "      <td>1-0</td>\n",
       "      <td>1601</td>\n",
       "      <td>16.0</td>\n",
       "      <td>1793</td>\n",
       "      <td>-17.0</td>\n",
       "      <td>no_title</td>\n",
       "      <td>no_title</td>\n",
       "      <td>-192</td>\n",
       "      <td>A02</td>\n",
       "      <td>Time forfeit</td>\n",
       "      <td>120+1</td>\n",
       "      <td>1697.0</td>\n",
       "      <td>A</td>\n",
       "    </tr>\n",
       "    <tr>\n",
       "      <th>1</th>\n",
       "      <td>Rated Blitz tournament</td>\n",
       "      <td>0-1</td>\n",
       "      <td>1532</td>\n",
       "      <td>-12.0</td>\n",
       "      <td>1541</td>\n",
       "      <td>22.0</td>\n",
       "      <td>no_title</td>\n",
       "      <td>no_title</td>\n",
       "      <td>9</td>\n",
       "      <td>C45</td>\n",
       "      <td>Normal</td>\n",
       "      <td>300+0</td>\n",
       "      <td>1536.5</td>\n",
       "      <td>C</td>\n",
       "    </tr>\n",
       "    <tr>\n",
       "      <th>2</th>\n",
       "      <td>Rated Classical game</td>\n",
       "      <td>1-0</td>\n",
       "      <td>1646</td>\n",
       "      <td>11.0</td>\n",
       "      <td>1639</td>\n",
       "      <td>-11.0</td>\n",
       "      <td>no_title</td>\n",
       "      <td>no_title</td>\n",
       "      <td>7</td>\n",
       "      <td>C46</td>\n",
       "      <td>Normal</td>\n",
       "      <td>600+0</td>\n",
       "      <td>1642.5</td>\n",
       "      <td>C</td>\n",
       "    </tr>\n",
       "    <tr>\n",
       "      <th>3</th>\n",
       "      <td>Rated Blitz game</td>\n",
       "      <td>0-1</td>\n",
       "      <td>1757</td>\n",
       "      <td>-13.0</td>\n",
       "      <td>1659</td>\n",
       "      <td>14.0</td>\n",
       "      <td>no_title</td>\n",
       "      <td>no_title</td>\n",
       "      <td>-98</td>\n",
       "      <td>B00</td>\n",
       "      <td>Normal</td>\n",
       "      <td>300+0</td>\n",
       "      <td>1708.0</td>\n",
       "      <td>B</td>\n",
       "    </tr>\n",
       "    <tr>\n",
       "      <th>4</th>\n",
       "      <td>Rated Classical tournament</td>\n",
       "      <td>0-1</td>\n",
       "      <td>1829</td>\n",
       "      <td>-11.0</td>\n",
       "      <td>1857</td>\n",
       "      <td>11.0</td>\n",
       "      <td>no_title</td>\n",
       "      <td>no_title</td>\n",
       "      <td>28</td>\n",
       "      <td>A43</td>\n",
       "      <td>Normal</td>\n",
       "      <td>600+0</td>\n",
       "      <td>1843.0</td>\n",
       "      <td>A</td>\n",
       "    </tr>\n",
       "  </tbody>\n",
       "</table>\n",
       "</div>"
      ],
      "text/plain": [
       "                        event result  white_elo  white_rating_diff  black_elo  \\\n",
       "0           Rated Bullet game    1-0       1601               16.0       1793   \n",
       "1      Rated Blitz tournament    0-1       1532              -12.0       1541   \n",
       "2        Rated Classical game    1-0       1646               11.0       1639   \n",
       "3            Rated Blitz game    0-1       1757              -13.0       1659   \n",
       "4  Rated Classical tournament    0-1       1829              -11.0       1857   \n",
       "\n",
       "   black_rating_diff white_title black_title  winner_loser_elo_diff  eco  \\\n",
       "0              -17.0    no_title    no_title                   -192  A02   \n",
       "1               22.0    no_title    no_title                      9  C45   \n",
       "2              -11.0    no_title    no_title                      7  C46   \n",
       "3               14.0    no_title    no_title                    -98  B00   \n",
       "4               11.0    no_title    no_title                     28  A43   \n",
       "\n",
       "    termination time_control  avg_elo_between_players eco_fl  \n",
       "0  Time forfeit        120+1                   1697.0      A  \n",
       "1        Normal        300+0                   1536.5      C  \n",
       "2        Normal        600+0                   1642.5      C  \n",
       "3        Normal        300+0                   1708.0      B  \n",
       "4        Normal        600+0                   1843.0      A  "
      ]
     },
     "execution_count": 163,
     "metadata": {},
     "output_type": "execute_result"
    }
   ],
   "source": [
    "clean_df['eco_fl'] = clean_df['eco'].astype(str).str[0]  # creating a new column for the first letter of the \"eco\" column\n",
    "clean_df.head()"
   ]
  },
  {
   "cell_type": "markdown",
   "metadata": {},
   "source": [
    "Here is a description for each of the categories of the ECO openings (information pulled from https://en.wikipedia.org/wiki/Encyclopaedia_of_Chess_Openings#Main_ECO_codes)\n",
    "- A: Flank openings\n",
    "- B: Semi-Open Games other than the French Defense\n",
    "- C: Open Games and the French Defense\n",
    "- D: Closed Games and Semi-Closed Games\n",
    "- E: Indian Defenses\n",
    "\n",
    "Category \"A\" (Flank openings) is distinguished by the opening moves not consisting of 1. e4 or 1. d4.\n",
    "Category \"B\" (Semi-Open Games other than the French Defense) is distinguished by the opening move of 1. e4 followed by moves not consisting of 1. ... e6 or 1. ... e5.\n",
    "Category \"C\" (Open Games and the French Defense) is distinguished by the opening move of 1. e4 followed by 1. ... e6 or 1. ... e5.\n",
    "Category \"D\" (Closed Games and Semi-Closed Games) is distinguished by the opening move of 1. d4 and black not playing 1. ... Nf6.\n",
    "Category \"E\" (Indian Defenses) is distinguished by the opening move of 1. d4 and black playing 1. ... Nf6."
   ]
  },
  {
   "cell_type": "markdown",
   "metadata": {},
   "source": [
    "## This gives a quick glimpse of the popularity of types of openings as the average rating increases."
   ]
  },
  {
   "cell_type": "code",
   "execution_count": 164,
   "metadata": {},
   "outputs": [
    {
     "data": {
      "text/html": [
       "<div>\n",
       "<style scoped>\n",
       "    .dataframe tbody tr th:only-of-type {\n",
       "        vertical-align: middle;\n",
       "    }\n",
       "\n",
       "    .dataframe tbody tr th {\n",
       "        vertical-align: top;\n",
       "    }\n",
       "\n",
       "    .dataframe thead th {\n",
       "        text-align: right;\n",
       "    }\n",
       "</style>\n",
       "<table border=\"1\" class=\"dataframe\">\n",
       "  <thead>\n",
       "    <tr style=\"text-align: right;\">\n",
       "      <th></th>\n",
       "      <th>avg_elo_between_players</th>\n",
       "    </tr>\n",
       "    <tr>\n",
       "      <th>eco_fl</th>\n",
       "      <th></th>\n",
       "    </tr>\n",
       "  </thead>\n",
       "  <tbody>\n",
       "    <tr>\n",
       "      <th>E</th>\n",
       "      <td>1882.29</td>\n",
       "    </tr>\n",
       "    <tr>\n",
       "      <th>A</th>\n",
       "      <td>1786.22</td>\n",
       "    </tr>\n",
       "    <tr>\n",
       "      <th>B</th>\n",
       "      <td>1763.78</td>\n",
       "    </tr>\n",
       "    <tr>\n",
       "      <th>D</th>\n",
       "      <td>1739.74</td>\n",
       "    </tr>\n",
       "    <tr>\n",
       "      <th>?</th>\n",
       "      <td>1734.16</td>\n",
       "    </tr>\n",
       "    <tr>\n",
       "      <th>C</th>\n",
       "      <td>1675.32</td>\n",
       "    </tr>\n",
       "  </tbody>\n",
       "</table>\n",
       "</div>"
      ],
      "text/plain": [
       "        avg_elo_between_players\n",
       "eco_fl                         \n",
       "E                       1882.29\n",
       "A                       1786.22\n",
       "B                       1763.78\n",
       "D                       1739.74\n",
       "?                       1734.16\n",
       "C                       1675.32"
      ]
     },
     "execution_count": 164,
     "metadata": {},
     "output_type": "execute_result"
    }
   ],
   "source": [
    "avg_elo_between_players_per_eco_fl = clean_df.groupby(['eco_fl']).mean().sort_values(by = ['avg_elo_between_players'], ascending = False)[['avg_elo_between_players']].round(2)\n",
    "avg_elo_between_players_per_eco_fl\n",
    "\n",
    "# the \"?\" category represents games not falling into any of these categories"
   ]
  },
  {
   "cell_type": "code",
   "execution_count": 165,
   "metadata": {},
   "outputs": [
    {
     "data": {
      "text/html": [
       "<div>\n",
       "<style scoped>\n",
       "    .dataframe tbody tr th:only-of-type {\n",
       "        vertical-align: middle;\n",
       "    }\n",
       "\n",
       "    .dataframe tbody tr th {\n",
       "        vertical-align: top;\n",
       "    }\n",
       "\n",
       "    .dataframe thead th {\n",
       "        text-align: right;\n",
       "    }\n",
       "</style>\n",
       "<table border=\"1\" class=\"dataframe\">\n",
       "  <thead>\n",
       "    <tr style=\"text-align: right;\">\n",
       "      <th></th>\n",
       "      <th>mean</th>\n",
       "      <th>percentage_of_total</th>\n",
       "    </tr>\n",
       "    <tr>\n",
       "      <th>eco_fl</th>\n",
       "      <th></th>\n",
       "      <th></th>\n",
       "    </tr>\n",
       "  </thead>\n",
       "  <tbody>\n",
       "    <tr>\n",
       "      <th>?</th>\n",
       "      <td>1734.157130</td>\n",
       "      <td>0.264218</td>\n",
       "    </tr>\n",
       "    <tr>\n",
       "      <th>E</th>\n",
       "      <td>1882.289078</td>\n",
       "      <td>2.124780</td>\n",
       "    </tr>\n",
       "    <tr>\n",
       "      <th>D</th>\n",
       "      <td>1739.742269</td>\n",
       "      <td>12.788995</td>\n",
       "    </tr>\n",
       "    <tr>\n",
       "      <th>A</th>\n",
       "      <td>1786.215683</td>\n",
       "      <td>26.052191</td>\n",
       "    </tr>\n",
       "    <tr>\n",
       "      <th>B</th>\n",
       "      <td>1763.783891</td>\n",
       "      <td>27.760846</td>\n",
       "    </tr>\n",
       "    <tr>\n",
       "      <th>C</th>\n",
       "      <td>1675.316832</td>\n",
       "      <td>31.008970</td>\n",
       "    </tr>\n",
       "  </tbody>\n",
       "</table>\n",
       "</div>"
      ],
      "text/plain": [
       "               mean  percentage_of_total\n",
       "eco_fl                                  \n",
       "?       1734.157130             0.264218\n",
       "E       1882.289078             2.124780\n",
       "D       1739.742269            12.788995\n",
       "A       1786.215683            26.052191\n",
       "B       1763.783891            27.760846\n",
       "C       1675.316832            31.008970"
      ]
     },
     "execution_count": 165,
     "metadata": {},
     "output_type": "execute_result"
    }
   ],
   "source": [
    "avg_elo_between_players_per_eco_fl = clean_df.groupby(['eco_fl']).agg(['mean', 'count'])['avg_elo_between_players']\n",
    "avg_elo_between_players_per_eco_fl['percentage_of_total'] = avg_elo_between_players_per_eco_fl['count'] / len(df) * 100\n",
    "avg_elo_between_players_per_eco_fl.drop(columns = ['count'], inplace = True)\n",
    "avg_elo_between_players_per_eco_fl.sort_values(by = 'percentage_of_total')"
   ]
  },
  {
   "cell_type": "markdown",
   "metadata": {},
   "source": [
    "The \"?\" category is so low that I am going to go ahead and drop it."
   ]
  },
  {
   "cell_type": "code",
   "execution_count": 166,
   "metadata": {},
   "outputs": [
    {
     "data": {
      "text/html": [
       "<div>\n",
       "<style scoped>\n",
       "    .dataframe tbody tr th:only-of-type {\n",
       "        vertical-align: middle;\n",
       "    }\n",
       "\n",
       "    .dataframe tbody tr th {\n",
       "        vertical-align: top;\n",
       "    }\n",
       "\n",
       "    .dataframe thead th {\n",
       "        text-align: right;\n",
       "    }\n",
       "</style>\n",
       "<table border=\"1\" class=\"dataframe\">\n",
       "  <thead>\n",
       "    <tr style=\"text-align: right;\">\n",
       "      <th></th>\n",
       "      <th>mean</th>\n",
       "      <th>percentage_of_total</th>\n",
       "    </tr>\n",
       "    <tr>\n",
       "      <th>eco_fl</th>\n",
       "      <th></th>\n",
       "      <th></th>\n",
       "    </tr>\n",
       "  </thead>\n",
       "  <tbody>\n",
       "    <tr>\n",
       "      <th>E</th>\n",
       "      <td>1882.289</td>\n",
       "      <td>2.125</td>\n",
       "    </tr>\n",
       "    <tr>\n",
       "      <th>A</th>\n",
       "      <td>1786.216</td>\n",
       "      <td>26.052</td>\n",
       "    </tr>\n",
       "    <tr>\n",
       "      <th>B</th>\n",
       "      <td>1763.784</td>\n",
       "      <td>27.761</td>\n",
       "    </tr>\n",
       "    <tr>\n",
       "      <th>D</th>\n",
       "      <td>1739.742</td>\n",
       "      <td>12.789</td>\n",
       "    </tr>\n",
       "    <tr>\n",
       "      <th>C</th>\n",
       "      <td>1675.317</td>\n",
       "      <td>31.009</td>\n",
       "    </tr>\n",
       "  </tbody>\n",
       "</table>\n",
       "</div>"
      ],
      "text/plain": [
       "            mean  percentage_of_total\n",
       "eco_fl                               \n",
       "E       1882.289                2.125\n",
       "A       1786.216               26.052\n",
       "B       1763.784               27.761\n",
       "D       1739.742               12.789\n",
       "C       1675.317               31.009"
      ]
     },
     "execution_count": 166,
     "metadata": {},
     "output_type": "execute_result"
    }
   ],
   "source": [
    "# removing the \"?\" category results\n",
    "clean_df = clean_df[clean_df['eco_fl'] != '?']\n",
    "\n",
    "avg_elo_between_players_per_eco_fl = clean_df.groupby(['eco_fl']).agg(['mean', 'count'])['avg_elo_between_players']\n",
    "avg_elo_between_players_per_eco_fl['percentage_of_total'] = avg_elo_between_players_per_eco_fl['count'] / len(df) * 100\n",
    "avg_elo_between_players_per_eco_fl.drop(columns = 'count', inplace = True)\n",
    "avg_elo_between_players_per_eco_fl.sort_values(by = 'mean', ascending = False).round(3)"
   ]
  },
  {
   "cell_type": "markdown",
   "metadata": {},
   "source": [
    "This ordering makes sense. In chess, beginners (and hence, players of lower ratings) are often taught to start out as White with the move 1. e4 (category C) as it tends to lead to simpler, more open positions than its counterpart, 1. d4. Later on, with more experience (and skill), White players will expand their opening repertoire and move onto 1. d4 (categories D and E, depending on Black's response), as well as other more irregular openings (category A), consisting of moves such as 1. c4, 1. b3, 1. g3, etc. \n",
    "\n",
    "On the other side of the board, beginners playing Black are first taught to play 1. ... e5 (category C) in response to 1. e4 or 1. ... d5 in response to White's 1. d4 (category D). This\n",
    "reasoning helps to explain the bottom positions of categories D and C in the table. Category B represents Black's other responses to 1. e4 other than 1. ... e5, including 1. ... c6, 1. ... c5, 1. ... d6, etc. (but not including 1. ... e6). These opening responses from Black to White's 1. e4 are usually learned a little bit later as the Black player, once again, gains experience and knowledge in the game of chess, and so this adequately explains its position above categories D and C. Furthermore, 1. ... c5 (the Sicilian Defense), is one of the most common, highly regarded, and dynamic responses by advanced players in response to 1. e4 so this fact understandably raises the average elo between players rating result show in the table.\n",
    "\n",
    "Categories E (1. ... Nf6 in response to 1. d4) and A (referenced in the first paragraph) are openings in chess residing in a school known as *hypermodernism*. This idealogy contrasts the common knowledge given to beginners in chess which is to \"control the center squares\". Hypermodernism, in contrast, lets the opponent occupy the center squares and instead aims to attack the center from afar via *indirect* control of the center. The school of thought invites the opponent to occupy the center with pawns, which can then become targets of attack. This is an excellent example of the idea of being able to break rules once you understand them thoroughly, and thus it makes complete sense that the average rating of the players that play these openings tend to be the highest on average."
   ]
  },
  {
   "cell_type": "code",
   "execution_count": 167,
   "metadata": {},
   "outputs": [
    {
     "data": {
      "image/png": "[encoded data removed]",
      "text/plain": [
       "<Figure size 1584x576 with 1 Axes>"
      ]
     },
     "metadata": {},
     "output_type": "display_data"
    }
   ],
   "source": [
    "# creating a pie chart to display the representation of the chess openings types in the dataset\n",
    "\n",
    "colors = sns.color_palette('pastel')\n",
    "plt.figure(figsize = (22,8), facecolor = \"#fff\")\n",
    "plt.pie(avg_elo_between_players_per_eco_fl['percentage_of_total'], labels = avg_elo_between_players_per_eco_fl.index, colors = colors, autopct='%.0f%%')\n",
    "plt.title('Representation of Opening Types in the Dataset')\n",
    "plt.show()"
   ]
  },
  {
   "cell_type": "code",
   "execution_count": 168,
   "metadata": {},
   "outputs": [
    {
     "data": {
      "image/png": "[encoded data removed]",
      "text/plain": [
       "<Figure size 1080x576 with 1 Axes>"
      ]
     },
     "metadata": {},
     "output_type": "display_data"
    }
   ],
   "source": [
    "# creating histograms to portray the distribution of the average elos between players concerning the various opening categories\n",
    "\n",
    "clean_df_A_openings = clean_df[clean_df['eco_fl'] == 'A']\n",
    "clean_df_B_openings = clean_df[clean_df['eco_fl'] == 'B']\n",
    "clean_df_C_openings = clean_df[clean_df['eco_fl'] == 'C']\n",
    "clean_df_D_openings = clean_df[clean_df['eco_fl'] == 'D']\n",
    "clean_df_E_openings = clean_df[clean_df['eco_fl'] == 'E']\n",
    "\n",
    "\n",
    "\n",
    "sns.set(style = \"darkgrid\")\n",
    "\n",
    "plt.figure(figsize = (15,8))\n",
    "\n",
    "sns.histplot(data = clean_df_A_openings, x = \"avg_elo_between_players\", label = \"Volume A Openings\", color = \"cyan\", kde = True)\n",
    "sns.histplot(data = clean_df_B_openings, x = \"avg_elo_between_players\", label = \"Volume B Openings\", color = \"red\", kde = True)\n",
    "sns.histplot(data = clean_df_C_openings, x = \"avg_elo_between_players\", label = \"Volume C Openings\", color = \"green\", kde = True)\n",
    "sns.histplot(data = clean_df_D_openings, x = \"avg_elo_between_players\", label = \"Volume D Openings\", color = \"violet\", kde = True)\n",
    "sns.histplot(data = clean_df_E_openings, x = \"avg_elo_between_players\", label = \"Volume E Openings\", color = \"chocolate\", kde = True)\n",
    "\n",
    "plt.legend(fontsize = 14)\n",
    "plt.title(\"Histograms for the Different Opening Categories\", fontsize = 25)\n",
    "plt.show()"
   ]
  },
  {
   "cell_type": "markdown",
   "metadata": {},
   "source": [
    "Note how Volume C has the highest count of games but also has a lower mean average elo between players value. Volume E on the other hand has a really low number of players\n",
    "compared to the other volumes but its distribution's mean value is higher than the others (meaning fewer people play these openings, but the ones that do tend to be better players\n",
    "on average)."
   ]
  },
  {
   "cell_type": "markdown",
   "metadata": {},
   "source": [
    "***"
   ]
  },
  {
   "cell_type": "code",
   "execution_count": 169,
   "metadata": {},
   "outputs": [
    {
     "data": {
      "text/html": [
       "<div>\n",
       "<style scoped>\n",
       "    .dataframe tbody tr th:only-of-type {\n",
       "        vertical-align: middle;\n",
       "    }\n",
       "\n",
       "    .dataframe tbody tr th {\n",
       "        vertical-align: top;\n",
       "    }\n",
       "\n",
       "    .dataframe thead th {\n",
       "        text-align: right;\n",
       "    }\n",
       "</style>\n",
       "<table border=\"1\" class=\"dataframe\">\n",
       "  <thead>\n",
       "    <tr style=\"text-align: right;\">\n",
       "      <th></th>\n",
       "      <th>event</th>\n",
       "      <th>result</th>\n",
       "      <th>white_elo</th>\n",
       "      <th>white_rating_diff</th>\n",
       "      <th>black_elo</th>\n",
       "      <th>black_rating_diff</th>\n",
       "      <th>white_title</th>\n",
       "      <th>black_title</th>\n",
       "      <th>winner_loser_elo_diff</th>\n",
       "      <th>eco</th>\n",
       "      <th>termination</th>\n",
       "      <th>time_control</th>\n",
       "      <th>avg_elo_between_players</th>\n",
       "      <th>eco_fl</th>\n",
       "      <th>eco_#</th>\n",
       "    </tr>\n",
       "  </thead>\n",
       "  <tbody>\n",
       "    <tr>\n",
       "      <th>0</th>\n",
       "      <td>Rated Bullet game</td>\n",
       "      <td>1-0</td>\n",
       "      <td>1601</td>\n",
       "      <td>16.0</td>\n",
       "      <td>1793</td>\n",
       "      <td>-17.0</td>\n",
       "      <td>no_title</td>\n",
       "      <td>no_title</td>\n",
       "      <td>-192</td>\n",
       "      <td>A02</td>\n",
       "      <td>Time forfeit</td>\n",
       "      <td>120+1</td>\n",
       "      <td>1697.0</td>\n",
       "      <td>A</td>\n",
       "      <td>02</td>\n",
       "    </tr>\n",
       "    <tr>\n",
       "      <th>1</th>\n",
       "      <td>Rated Blitz tournament</td>\n",
       "      <td>0-1</td>\n",
       "      <td>1532</td>\n",
       "      <td>-12.0</td>\n",
       "      <td>1541</td>\n",
       "      <td>22.0</td>\n",
       "      <td>no_title</td>\n",
       "      <td>no_title</td>\n",
       "      <td>9</td>\n",
       "      <td>C45</td>\n",
       "      <td>Normal</td>\n",
       "      <td>300+0</td>\n",
       "      <td>1536.5</td>\n",
       "      <td>C</td>\n",
       "      <td>45</td>\n",
       "    </tr>\n",
       "    <tr>\n",
       "      <th>2</th>\n",
       "      <td>Rated Classical game</td>\n",
       "      <td>1-0</td>\n",
       "      <td>1646</td>\n",
       "      <td>11.0</td>\n",
       "      <td>1639</td>\n",
       "      <td>-11.0</td>\n",
       "      <td>no_title</td>\n",
       "      <td>no_title</td>\n",
       "      <td>7</td>\n",
       "      <td>C46</td>\n",
       "      <td>Normal</td>\n",
       "      <td>600+0</td>\n",
       "      <td>1642.5</td>\n",
       "      <td>C</td>\n",
       "      <td>46</td>\n",
       "    </tr>\n",
       "    <tr>\n",
       "      <th>3</th>\n",
       "      <td>Rated Blitz game</td>\n",
       "      <td>0-1</td>\n",
       "      <td>1757</td>\n",
       "      <td>-13.0</td>\n",
       "      <td>1659</td>\n",
       "      <td>14.0</td>\n",
       "      <td>no_title</td>\n",
       "      <td>no_title</td>\n",
       "      <td>-98</td>\n",
       "      <td>B00</td>\n",
       "      <td>Normal</td>\n",
       "      <td>300+0</td>\n",
       "      <td>1708.0</td>\n",
       "      <td>B</td>\n",
       "      <td>00</td>\n",
       "    </tr>\n",
       "    <tr>\n",
       "      <th>4</th>\n",
       "      <td>Rated Classical tournament</td>\n",
       "      <td>0-1</td>\n",
       "      <td>1829</td>\n",
       "      <td>-11.0</td>\n",
       "      <td>1857</td>\n",
       "      <td>11.0</td>\n",
       "      <td>no_title</td>\n",
       "      <td>no_title</td>\n",
       "      <td>28</td>\n",
       "      <td>A43</td>\n",
       "      <td>Normal</td>\n",
       "      <td>600+0</td>\n",
       "      <td>1843.0</td>\n",
       "      <td>A</td>\n",
       "      <td>43</td>\n",
       "    </tr>\n",
       "  </tbody>\n",
       "</table>\n",
       "</div>"
      ],
      "text/plain": [
       "                        event result  white_elo  white_rating_diff  black_elo  \\\n",
       "0           Rated Bullet game    1-0       1601               16.0       1793   \n",
       "1      Rated Blitz tournament    0-1       1532              -12.0       1541   \n",
       "2        Rated Classical game    1-0       1646               11.0       1639   \n",
       "3            Rated Blitz game    0-1       1757              -13.0       1659   \n",
       "4  Rated Classical tournament    0-1       1829              -11.0       1857   \n",
       "\n",
       "   black_rating_diff white_title black_title  winner_loser_elo_diff  eco  \\\n",
       "0              -17.0    no_title    no_title                   -192  A02   \n",
       "1               22.0    no_title    no_title                      9  C45   \n",
       "2              -11.0    no_title    no_title                      7  C46   \n",
       "3               14.0    no_title    no_title                    -98  B00   \n",
       "4               11.0    no_title    no_title                     28  A43   \n",
       "\n",
       "    termination time_control  avg_elo_between_players eco_fl eco_#  \n",
       "0  Time forfeit        120+1                   1697.0      A    02  \n",
       "1        Normal        300+0                   1536.5      C    45  \n",
       "2        Normal        600+0                   1642.5      C    46  \n",
       "3        Normal        300+0                   1708.0      B    00  \n",
       "4        Normal        600+0                   1843.0      A    43  "
      ]
     },
     "execution_count": 169,
     "metadata": {},
     "output_type": "execute_result"
    }
   ],
   "source": [
    "# create an eco numbers column\n",
    "\n",
    "clean_df['eco_#'] = clean_df['eco'].astype(str).str[1:3]\n",
    "clean_df.head()"
   ]
  },
  {
   "cell_type": "markdown",
   "metadata": {},
   "source": [
    "## Looking at the Effectiveness of the Sicilian Defense"
   ]
  },
  {
   "cell_type": "markdown",
   "metadata": {},
   "source": [
    "All variations of the Sicilian Defense start out with 1. e4 and 1. ... c5. The opening is an extremely popular response for Black against White's common 1. e4 as it immediately vies for control of the center in an asymmetrical fashion. The opening and its variations are known to be extremely dynamic and sharp, as well as giving Black quick and effective counterattacking opportunities against White. It is also known for its extreme complexity and vast amount of viable variations."
   ]
  },
  {
   "cell_type": "code",
   "execution_count": 170,
   "metadata": {},
   "outputs": [
    {
     "data": {
      "text/html": [
       "<div>\n",
       "<style scoped>\n",
       "    .dataframe tbody tr th:only-of-type {\n",
       "        vertical-align: middle;\n",
       "    }\n",
       "\n",
       "    .dataframe tbody tr th {\n",
       "        vertical-align: top;\n",
       "    }\n",
       "\n",
       "    .dataframe thead th {\n",
       "        text-align: right;\n",
       "    }\n",
       "</style>\n",
       "<table border=\"1\" class=\"dataframe\">\n",
       "  <thead>\n",
       "    <tr style=\"text-align: right;\">\n",
       "      <th></th>\n",
       "      <th>event</th>\n",
       "      <th>result</th>\n",
       "      <th>white_elo</th>\n",
       "      <th>white_rating_diff</th>\n",
       "      <th>black_elo</th>\n",
       "      <th>black_rating_diff</th>\n",
       "      <th>white_title</th>\n",
       "      <th>black_title</th>\n",
       "      <th>winner_loser_elo_diff</th>\n",
       "      <th>eco</th>\n",
       "      <th>termination</th>\n",
       "      <th>time_control</th>\n",
       "      <th>avg_elo_between_players</th>\n",
       "      <th>eco_fl</th>\n",
       "      <th>eco_#</th>\n",
       "    </tr>\n",
       "  </thead>\n",
       "  <tbody>\n",
       "    <tr>\n",
       "      <th>7</th>\n",
       "      <td>Rated Classical tournament</td>\n",
       "      <td>0-1</td>\n",
       "      <td>1959</td>\n",
       "      <td>-11.0</td>\n",
       "      <td>1970</td>\n",
       "      <td>12.0</td>\n",
       "      <td>no_title</td>\n",
       "      <td>no_title</td>\n",
       "      <td>11</td>\n",
       "      <td>B30</td>\n",
       "      <td>Normal</td>\n",
       "      <td>600+0</td>\n",
       "      <td>1964.5</td>\n",
       "      <td>B</td>\n",
       "      <td>30</td>\n",
       "    </tr>\n",
       "    <tr>\n",
       "      <th>11</th>\n",
       "      <td>Rated Classical tournament</td>\n",
       "      <td>1/2-1/2</td>\n",
       "      <td>1890</td>\n",
       "      <td>0.0</td>\n",
       "      <td>1889</td>\n",
       "      <td>0.0</td>\n",
       "      <td>no_title</td>\n",
       "      <td>no_title</td>\n",
       "      <td>0</td>\n",
       "      <td>B27</td>\n",
       "      <td>Normal</td>\n",
       "      <td>600+0</td>\n",
       "      <td>1889.5</td>\n",
       "      <td>B</td>\n",
       "      <td>27</td>\n",
       "    </tr>\n",
       "    <tr>\n",
       "      <th>20</th>\n",
       "      <td>Rated Blitz tournament</td>\n",
       "      <td>0-1</td>\n",
       "      <td>1219</td>\n",
       "      <td>-7.0</td>\n",
       "      <td>1435</td>\n",
       "      <td>7.0</td>\n",
       "      <td>no_title</td>\n",
       "      <td>no_title</td>\n",
       "      <td>216</td>\n",
       "      <td>B20</td>\n",
       "      <td>Time forfeit</td>\n",
       "      <td>300+0</td>\n",
       "      <td>1327.0</td>\n",
       "      <td>B</td>\n",
       "      <td>20</td>\n",
       "    </tr>\n",
       "    <tr>\n",
       "      <th>23</th>\n",
       "      <td>Rated Blitz tournament</td>\n",
       "      <td>1-0</td>\n",
       "      <td>2110</td>\n",
       "      <td>13.0</td>\n",
       "      <td>2134</td>\n",
       "      <td>-13.0</td>\n",
       "      <td>no_title</td>\n",
       "      <td>no_title</td>\n",
       "      <td>-24</td>\n",
       "      <td>B21</td>\n",
       "      <td>Normal</td>\n",
       "      <td>300+0</td>\n",
       "      <td>2122.0</td>\n",
       "      <td>B</td>\n",
       "      <td>21</td>\n",
       "    </tr>\n",
       "    <tr>\n",
       "      <th>24</th>\n",
       "      <td>Rated Blitz tournament</td>\n",
       "      <td>0-1</td>\n",
       "      <td>1710</td>\n",
       "      <td>-12.0</td>\n",
       "      <td>1700</td>\n",
       "      <td>12.0</td>\n",
       "      <td>no_title</td>\n",
       "      <td>no_title</td>\n",
       "      <td>-10</td>\n",
       "      <td>B22</td>\n",
       "      <td>Time forfeit</td>\n",
       "      <td>300+0</td>\n",
       "      <td>1705.0</td>\n",
       "      <td>B</td>\n",
       "      <td>22</td>\n",
       "    </tr>\n",
       "  </tbody>\n",
       "</table>\n",
       "</div>"
      ],
      "text/plain": [
       "                         event   result  white_elo  white_rating_diff  \\\n",
       "7   Rated Classical tournament      0-1       1959              -11.0   \n",
       "11  Rated Classical tournament  1/2-1/2       1890                0.0   \n",
       "20      Rated Blitz tournament      0-1       1219               -7.0   \n",
       "23      Rated Blitz tournament      1-0       2110               13.0   \n",
       "24      Rated Blitz tournament      0-1       1710              -12.0   \n",
       "\n",
       "    black_elo  black_rating_diff white_title black_title  \\\n",
       "7        1970               12.0    no_title    no_title   \n",
       "11       1889                0.0    no_title    no_title   \n",
       "20       1435                7.0    no_title    no_title   \n",
       "23       2134              -13.0    no_title    no_title   \n",
       "24       1700               12.0    no_title    no_title   \n",
       "\n",
       "    winner_loser_elo_diff  eco   termination time_control  \\\n",
       "7                      11  B30        Normal        600+0   \n",
       "11                      0  B27        Normal        600+0   \n",
       "20                    216  B20  Time forfeit        300+0   \n",
       "23                    -24  B21        Normal        300+0   \n",
       "24                    -10  B22  Time forfeit        300+0   \n",
       "\n",
       "    avg_elo_between_players eco_fl eco_#  \n",
       "7                    1964.5      B    30  \n",
       "11                   1889.5      B    27  \n",
       "20                   1327.0      B    20  \n",
       "23                   2122.0      B    21  \n",
       "24                   1705.0      B    22  "
      ]
     },
     "execution_count": 170,
     "metadata": {},
     "output_type": "execute_result"
    }
   ],
   "source": [
    "# the ECO (Encyclopedia of Chess Openings) labels all of the Sicilian Defense variations as ECO codes B20 - B99\n",
    "\n",
    "sicilian_df = clean_df[clean_df['eco_#'].astype('int64').between(20, 99)]\n",
    "sicilian_df = sicilian_df[sicilian_df['eco_fl'] == 'B']\n",
    "sicilian_df.head()"
   ]
  },
  {
   "cell_type": "code",
   "execution_count": 171,
   "metadata": {},
   "outputs": [
    {
     "data": {
      "text/plain": [
       "0.11660462799656401"
      ]
     },
     "execution_count": 171,
     "metadata": {},
     "output_type": "execute_result"
    }
   ],
   "source": [
    "len(sicilian_df) / len(clean_df)"
   ]
  },
  {
   "cell_type": "markdown",
   "metadata": {},
   "source": [
    "Around 11.66% of the games in this dataset are with the Sicilian Defense."
   ]
  },
  {
   "cell_type": "markdown",
   "metadata": {},
   "source": [
    "Let's look at the percentages for White wins, Black wins, and draws in the total dataset vs games with the Sicilian."
   ]
  },
  {
   "cell_type": "code",
   "execution_count": 172,
   "metadata": {},
   "outputs": [
    {
     "data": {
      "text/plain": [
       "1-0        49.689486\n",
       "0-1        46.464999\n",
       "1/2-1/2     3.845515\n",
       "Name: result, dtype: float64"
      ]
     },
     "execution_count": 172,
     "metadata": {},
     "output_type": "execute_result"
    }
   ],
   "source": [
    "# total dataset percentages\n",
    "clean_df['result'].value_counts(normalize = True) * 100"
   ]
  },
  {
   "cell_type": "code",
   "execution_count": 173,
   "metadata": {},
   "outputs": [
    {
     "data": {
      "text/plain": [
       "0-1        50.653102\n",
       "1-0        45.459235\n",
       "1/2-1/2     3.887662\n",
       "Name: result, dtype: float64"
      ]
     },
     "execution_count": 173,
     "metadata": {},
     "output_type": "execute_result"
    }
   ],
   "source": [
    "# sicilian dataset percentages\n",
    "sicilian_df['result'].value_counts(normalize = True) * 100"
   ]
  },
  {
   "cell_type": "markdown",
   "metadata": {},
   "source": [
    "The Sicilian Defense appears to fare well for White, giving Black a slightly better win percentage than the average of all the openings together."
   ]
  },
  {
   "cell_type": "markdown",
   "metadata": {},
   "source": [
    "***"
   ]
  },
  {
   "cell_type": "markdown",
   "metadata": {},
   "source": [
    "## Effect of Time Control on Victory Analysis"
   ]
  },
  {
   "cell_type": "code",
   "execution_count": 174,
   "metadata": {},
   "outputs": [
    {
     "data": {
      "text/html": [
       "<div>\n",
       "<style scoped>\n",
       "    .dataframe tbody tr th:only-of-type {\n",
       "        vertical-align: middle;\n",
       "    }\n",
       "\n",
       "    .dataframe tbody tr th {\n",
       "        vertical-align: top;\n",
       "    }\n",
       "\n",
       "    .dataframe thead th {\n",
       "        text-align: right;\n",
       "    }\n",
       "</style>\n",
       "<table border=\"1\" class=\"dataframe\">\n",
       "  <thead>\n",
       "    <tr style=\"text-align: right;\">\n",
       "      <th></th>\n",
       "      <th>event</th>\n",
       "      <th>result</th>\n",
       "      <th>white_elo</th>\n",
       "      <th>white_rating_diff</th>\n",
       "      <th>black_elo</th>\n",
       "      <th>black_rating_diff</th>\n",
       "      <th>white_title</th>\n",
       "      <th>black_title</th>\n",
       "      <th>winner_loser_elo_diff</th>\n",
       "      <th>eco</th>\n",
       "      <th>termination</th>\n",
       "      <th>time_control</th>\n",
       "      <th>avg_elo_between_players</th>\n",
       "      <th>eco_fl</th>\n",
       "      <th>eco_#</th>\n",
       "    </tr>\n",
       "  </thead>\n",
       "  <tbody>\n",
       "    <tr>\n",
       "      <th>0</th>\n",
       "      <td>Rated Bullet game</td>\n",
       "      <td>1-0</td>\n",
       "      <td>1601</td>\n",
       "      <td>16.0</td>\n",
       "      <td>1793</td>\n",
       "      <td>-17.0</td>\n",
       "      <td>no_title</td>\n",
       "      <td>no_title</td>\n",
       "      <td>-192</td>\n",
       "      <td>A02</td>\n",
       "      <td>Time forfeit</td>\n",
       "      <td>120+1</td>\n",
       "      <td>1697.0</td>\n",
       "      <td>A</td>\n",
       "      <td>02</td>\n",
       "    </tr>\n",
       "    <tr>\n",
       "      <th>1</th>\n",
       "      <td>Rated Blitz tournament</td>\n",
       "      <td>0-1</td>\n",
       "      <td>1532</td>\n",
       "      <td>-12.0</td>\n",
       "      <td>1541</td>\n",
       "      <td>22.0</td>\n",
       "      <td>no_title</td>\n",
       "      <td>no_title</td>\n",
       "      <td>9</td>\n",
       "      <td>C45</td>\n",
       "      <td>Normal</td>\n",
       "      <td>300+0</td>\n",
       "      <td>1536.5</td>\n",
       "      <td>C</td>\n",
       "      <td>45</td>\n",
       "    </tr>\n",
       "    <tr>\n",
       "      <th>2</th>\n",
       "      <td>Rated Classical game</td>\n",
       "      <td>1-0</td>\n",
       "      <td>1646</td>\n",
       "      <td>11.0</td>\n",
       "      <td>1639</td>\n",
       "      <td>-11.0</td>\n",
       "      <td>no_title</td>\n",
       "      <td>no_title</td>\n",
       "      <td>7</td>\n",
       "      <td>C46</td>\n",
       "      <td>Normal</td>\n",
       "      <td>600+0</td>\n",
       "      <td>1642.5</td>\n",
       "      <td>C</td>\n",
       "      <td>46</td>\n",
       "    </tr>\n",
       "    <tr>\n",
       "      <th>3</th>\n",
       "      <td>Rated Blitz game</td>\n",
       "      <td>0-1</td>\n",
       "      <td>1757</td>\n",
       "      <td>-13.0</td>\n",
       "      <td>1659</td>\n",
       "      <td>14.0</td>\n",
       "      <td>no_title</td>\n",
       "      <td>no_title</td>\n",
       "      <td>-98</td>\n",
       "      <td>B00</td>\n",
       "      <td>Normal</td>\n",
       "      <td>300+0</td>\n",
       "      <td>1708.0</td>\n",
       "      <td>B</td>\n",
       "      <td>00</td>\n",
       "    </tr>\n",
       "    <tr>\n",
       "      <th>4</th>\n",
       "      <td>Rated Classical tournament</td>\n",
       "      <td>0-1</td>\n",
       "      <td>1829</td>\n",
       "      <td>-11.0</td>\n",
       "      <td>1857</td>\n",
       "      <td>11.0</td>\n",
       "      <td>no_title</td>\n",
       "      <td>no_title</td>\n",
       "      <td>28</td>\n",
       "      <td>A43</td>\n",
       "      <td>Normal</td>\n",
       "      <td>600+0</td>\n",
       "      <td>1843.0</td>\n",
       "      <td>A</td>\n",
       "      <td>43</td>\n",
       "    </tr>\n",
       "  </tbody>\n",
       "</table>\n",
       "</div>"
      ],
      "text/plain": [
       "                        event result  white_elo  white_rating_diff  black_elo  \\\n",
       "0           Rated Bullet game    1-0       1601               16.0       1793   \n",
       "1      Rated Blitz tournament    0-1       1532              -12.0       1541   \n",
       "2        Rated Classical game    1-0       1646               11.0       1639   \n",
       "3            Rated Blitz game    0-1       1757              -13.0       1659   \n",
       "4  Rated Classical tournament    0-1       1829              -11.0       1857   \n",
       "\n",
       "   black_rating_diff white_title black_title  winner_loser_elo_diff  eco  \\\n",
       "0              -17.0    no_title    no_title                   -192  A02   \n",
       "1               22.0    no_title    no_title                      9  C45   \n",
       "2              -11.0    no_title    no_title                      7  C46   \n",
       "3               14.0    no_title    no_title                    -98  B00   \n",
       "4               11.0    no_title    no_title                     28  A43   \n",
       "\n",
       "    termination time_control  avg_elo_between_players eco_fl eco_#  \n",
       "0  Time forfeit        120+1                   1697.0      A    02  \n",
       "1        Normal        300+0                   1536.5      C    45  \n",
       "2        Normal        600+0                   1642.5      C    46  \n",
       "3        Normal        300+0                   1708.0      B    00  \n",
       "4        Normal        600+0                   1843.0      A    43  "
      ]
     },
     "execution_count": 174,
     "metadata": {},
     "output_type": "execute_result"
    }
   ],
   "source": [
    "time_control_df = clean_df.copy()\n",
    "time_control_df.head()"
   ]
  },
  {
   "cell_type": "markdown",
   "metadata": {},
   "source": [
    "First let's make sure that all games have the consistent time_control format of \"number of minutes + increment per move.\" "
   ]
  },
  {
   "cell_type": "code",
   "execution_count": 175,
   "metadata": {},
   "outputs": [
    {
     "data": {
      "text/html": [
       "<div>\n",
       "<style scoped>\n",
       "    .dataframe tbody tr th:only-of-type {\n",
       "        vertical-align: middle;\n",
       "    }\n",
       "\n",
       "    .dataframe tbody tr th {\n",
       "        vertical-align: top;\n",
       "    }\n",
       "\n",
       "    .dataframe thead th {\n",
       "        text-align: right;\n",
       "    }\n",
       "</style>\n",
       "<table border=\"1\" class=\"dataframe\">\n",
       "  <thead>\n",
       "    <tr style=\"text-align: right;\">\n",
       "      <th></th>\n",
       "      <th>event</th>\n",
       "      <th>result</th>\n",
       "      <th>white_elo</th>\n",
       "      <th>white_rating_diff</th>\n",
       "      <th>black_elo</th>\n",
       "      <th>black_rating_diff</th>\n",
       "      <th>white_title</th>\n",
       "      <th>black_title</th>\n",
       "      <th>winner_loser_elo_diff</th>\n",
       "      <th>eco</th>\n",
       "      <th>termination</th>\n",
       "      <th>time_control</th>\n",
       "      <th>avg_elo_between_players</th>\n",
       "      <th>eco_fl</th>\n",
       "      <th>eco_#</th>\n",
       "    </tr>\n",
       "  </thead>\n",
       "  <tbody>\n",
       "    <tr>\n",
       "      <th>147</th>\n",
       "      <td>Rated Correspondence game</td>\n",
       "      <td>0-1</td>\n",
       "      <td>1551</td>\n",
       "      <td>-20.0</td>\n",
       "      <td>1534</td>\n",
       "      <td>22.0</td>\n",
       "      <td>no_title</td>\n",
       "      <td>no_title</td>\n",
       "      <td>-17</td>\n",
       "      <td>C26</td>\n",
       "      <td>Normal</td>\n",
       "      <td>-</td>\n",
       "      <td>1542.5</td>\n",
       "      <td>C</td>\n",
       "      <td>26</td>\n",
       "    </tr>\n",
       "    <tr>\n",
       "      <th>170</th>\n",
       "      <td>Rated Correspondence game</td>\n",
       "      <td>0-1</td>\n",
       "      <td>1195</td>\n",
       "      <td>-6.0</td>\n",
       "      <td>1688</td>\n",
       "      <td>1.0</td>\n",
       "      <td>no_title</td>\n",
       "      <td>no_title</td>\n",
       "      <td>493</td>\n",
       "      <td>B20</td>\n",
       "      <td>Time forfeit</td>\n",
       "      <td>-</td>\n",
       "      <td>1441.5</td>\n",
       "      <td>B</td>\n",
       "      <td>20</td>\n",
       "    </tr>\n",
       "    <tr>\n",
       "      <th>208</th>\n",
       "      <td>Rated Correspondence game</td>\n",
       "      <td>1-0</td>\n",
       "      <td>1659</td>\n",
       "      <td>14.0</td>\n",
       "      <td>1195</td>\n",
       "      <td>-7.0</td>\n",
       "      <td>no_title</td>\n",
       "      <td>no_title</td>\n",
       "      <td>464</td>\n",
       "      <td>C62</td>\n",
       "      <td>Time forfeit</td>\n",
       "      <td>-</td>\n",
       "      <td>1427.0</td>\n",
       "      <td>C</td>\n",
       "      <td>62</td>\n",
       "    </tr>\n",
       "    <tr>\n",
       "      <th>239</th>\n",
       "      <td>Rated Correspondence game</td>\n",
       "      <td>1-0</td>\n",
       "      <td>1500</td>\n",
       "      <td>91.0</td>\n",
       "      <td>1195</td>\n",
       "      <td>-30.0</td>\n",
       "      <td>no_title</td>\n",
       "      <td>no_title</td>\n",
       "      <td>305</td>\n",
       "      <td>C46</td>\n",
       "      <td>Time forfeit</td>\n",
       "      <td>-</td>\n",
       "      <td>1347.5</td>\n",
       "      <td>C</td>\n",
       "      <td>46</td>\n",
       "    </tr>\n",
       "    <tr>\n",
       "      <th>1133</th>\n",
       "      <td>Rated Correspondence game</td>\n",
       "      <td>1-0</td>\n",
       "      <td>1500</td>\n",
       "      <td>275.0</td>\n",
       "      <td>1735</td>\n",
       "      <td>-172.0</td>\n",
       "      <td>no_title</td>\n",
       "      <td>no_title</td>\n",
       "      <td>-235</td>\n",
       "      <td>D06</td>\n",
       "      <td>Normal</td>\n",
       "      <td>-</td>\n",
       "      <td>1617.5</td>\n",
       "      <td>D</td>\n",
       "      <td>06</td>\n",
       "    </tr>\n",
       "  </tbody>\n",
       "</table>\n",
       "</div>"
      ],
      "text/plain": [
       "                          event result  white_elo  white_rating_diff  \\\n",
       "147   Rated Correspondence game    0-1       1551              -20.0   \n",
       "170   Rated Correspondence game    0-1       1195               -6.0   \n",
       "208   Rated Correspondence game    1-0       1659               14.0   \n",
       "239   Rated Correspondence game    1-0       1500               91.0   \n",
       "1133  Rated Correspondence game    1-0       1500              275.0   \n",
       "\n",
       "      black_elo  black_rating_diff white_title black_title  \\\n",
       "147        1534               22.0    no_title    no_title   \n",
       "170        1688                1.0    no_title    no_title   \n",
       "208        1195               -7.0    no_title    no_title   \n",
       "239        1195              -30.0    no_title    no_title   \n",
       "1133       1735             -172.0    no_title    no_title   \n",
       "\n",
       "      winner_loser_elo_diff  eco   termination time_control  \\\n",
       "147                     -17  C26        Normal            -   \n",
       "170                     493  B20  Time forfeit            -   \n",
       "208                     464  C62  Time forfeit            -   \n",
       "239                     305  C46  Time forfeit            -   \n",
       "1133                   -235  D06        Normal            -   \n",
       "\n",
       "      avg_elo_between_players eco_fl eco_#  \n",
       "147                    1542.5      C    26  \n",
       "170                    1441.5      B    20  \n",
       "208                    1427.0      C    62  \n",
       "239                    1347.5      C    46  \n",
       "1133                   1617.5      D    06  "
      ]
     },
     "execution_count": 175,
     "metadata": {},
     "output_type": "execute_result"
    }
   ],
   "source": [
    "clean_df[clean_df['time_control'].str.find('+') == -1].head()"
   ]
  },
  {
   "cell_type": "code",
   "execution_count": 176,
   "metadata": {},
   "outputs": [
    {
     "data": {
      "text/plain": [
       "array(['Rated Correspondence game'], dtype=object)"
      ]
     },
     "execution_count": 176,
     "metadata": {},
     "output_type": "execute_result"
    }
   ],
   "source": [
    "clean_df[clean_df['time_control'].str.find('+') == -1]['event'].unique()"
   ]
  },
  {
   "cell_type": "code",
   "execution_count": 177,
   "metadata": {},
   "outputs": [
    {
     "data": {
      "text/plain": [
       "1534"
      ]
     },
     "execution_count": 177,
     "metadata": {},
     "output_type": "execute_result"
    }
   ],
   "source": [
    "len(clean_df[clean_df['event'] == 'Rated Correspondence game'])"
   ]
  },
  {
   "cell_type": "markdown",
   "metadata": {},
   "source": [
    "All of these are of the \"Rated Correspondence game\" type. These are games that are played over the course of days and thus here is no time control. There is also not that many of these games with respect to the entire working dataset so for this portion of the analysis, I will remove those and set a new dataframe."
   ]
  },
  {
   "cell_type": "code",
   "execution_count": 178,
   "metadata": {},
   "outputs": [
    {
     "data": {
      "text/plain": [
       "False"
      ]
     },
     "execution_count": 178,
     "metadata": {},
     "output_type": "execute_result"
    }
   ],
   "source": [
    "time_control_df = clean_df[clean_df['event'] != 'Rated Correspondence game']\n",
    "'Rated Correspondence Game' in time_control_df['event'].unique()"
   ]
  },
  {
   "cell_type": "markdown",
   "metadata": {},
   "source": [
    "The time control formats for the games in this dataset are given in the form of \"regular number of seconds + incremental seconds per move.\" "
   ]
  },
  {
   "cell_type": "code",
   "execution_count": 179,
   "metadata": {},
   "outputs": [
    {
     "data": {
      "text/plain": [
       "300+0     69566\n",
       "60+0      59313\n",
       "180+0     57512\n",
       "600+0     34885\n",
       "30+0      21971\n",
       "          ...  \n",
       "300+14        1\n",
       "960+1         1\n",
       "60+150        1\n",
       "840+12        1\n",
       "120+40        1\n",
       "Name: time_control, Length: 533, dtype: int64"
      ]
     },
     "execution_count": 179,
     "metadata": {},
     "output_type": "execute_result"
    }
   ],
   "source": [
    "clean_df['time_control'].value_counts()"
   ]
  },
  {
   "cell_type": "markdown",
   "metadata": {},
   "source": [
    "The most 5 popular time control formats appear to be 5 minutes, 1 minute, 3 minutes, 10 minutes, and 30 seconds."
   ]
  },
  {
   "cell_type": "markdown",
   "metadata": {},
   "source": [
    "I will look at how the number of games ended by time forfeit increase as the amount of time for both sides is decreased."
   ]
  },
  {
   "cell_type": "code",
   "execution_count": 180,
   "metadata": {},
   "outputs": [
    {
     "data": {
      "text/plain": [
       "0         [120, 1]\n",
       "1         [300, 0]\n",
       "2         [600, 0]\n",
       "3         [300, 0]\n",
       "4         [600, 0]\n",
       "            ...   \n",
       "417110    [180, 1]\n",
       "417111     [30, 0]\n",
       "417112    [300, 0]\n",
       "417113     [60, 0]\n",
       "417114    [480, 8]\n",
       "Name: time_control, Length: 414067, dtype: object"
      ]
     },
     "execution_count": 180,
     "metadata": {},
     "output_type": "execute_result"
    }
   ],
   "source": [
    "split_list = time_control_df['time_control'].str.split('+')\n",
    "split_list"
   ]
  },
  {
   "cell_type": "code",
   "execution_count": 243,
   "metadata": {},
   "outputs": [
    {
     "data": {
      "text/html": [
       "<div>\n",
       "<style scoped>\n",
       "    .dataframe tbody tr th:only-of-type {\n",
       "        vertical-align: middle;\n",
       "    }\n",
       "\n",
       "    .dataframe tbody tr th {\n",
       "        vertical-align: top;\n",
       "    }\n",
       "\n",
       "    .dataframe thead th {\n",
       "        text-align: right;\n",
       "    }\n",
       "</style>\n",
       "<table border=\"1\" class=\"dataframe\">\n",
       "  <thead>\n",
       "    <tr style=\"text-align: right;\">\n",
       "      <th></th>\n",
       "      <th>event</th>\n",
       "      <th>result</th>\n",
       "      <th>white_elo</th>\n",
       "      <th>white_rating_diff</th>\n",
       "      <th>black_elo</th>\n",
       "      <th>black_rating_diff</th>\n",
       "      <th>white_title</th>\n",
       "      <th>black_title</th>\n",
       "      <th>winner_loser_elo_diff</th>\n",
       "      <th>eco</th>\n",
       "      <th>termination</th>\n",
       "      <th>time_control</th>\n",
       "      <th>avg_elo_between_players</th>\n",
       "      <th>eco_fl</th>\n",
       "      <th>eco_#</th>\n",
       "      <th>regular_seconds_per_player</th>\n",
       "    </tr>\n",
       "  </thead>\n",
       "  <tbody>\n",
       "    <tr>\n",
       "      <th>0</th>\n",
       "      <td>Rated Bullet game</td>\n",
       "      <td>1-0</td>\n",
       "      <td>1601</td>\n",
       "      <td>16.0</td>\n",
       "      <td>1793</td>\n",
       "      <td>-17.0</td>\n",
       "      <td>no_title</td>\n",
       "      <td>no_title</td>\n",
       "      <td>-192</td>\n",
       "      <td>A02</td>\n",
       "      <td>Time forfeit</td>\n",
       "      <td>120+1</td>\n",
       "      <td>1697.0</td>\n",
       "      <td>A</td>\n",
       "      <td>02</td>\n",
       "      <td>120</td>\n",
       "    </tr>\n",
       "    <tr>\n",
       "      <th>1</th>\n",
       "      <td>Rated Blitz tournament</td>\n",
       "      <td>0-1</td>\n",
       "      <td>1532</td>\n",
       "      <td>-12.0</td>\n",
       "      <td>1541</td>\n",
       "      <td>22.0</td>\n",
       "      <td>no_title</td>\n",
       "      <td>no_title</td>\n",
       "      <td>9</td>\n",
       "      <td>C45</td>\n",
       "      <td>Normal</td>\n",
       "      <td>300+0</td>\n",
       "      <td>1536.5</td>\n",
       "      <td>C</td>\n",
       "      <td>45</td>\n",
       "      <td>300</td>\n",
       "    </tr>\n",
       "    <tr>\n",
       "      <th>2</th>\n",
       "      <td>Rated Classical game</td>\n",
       "      <td>1-0</td>\n",
       "      <td>1646</td>\n",
       "      <td>11.0</td>\n",
       "      <td>1639</td>\n",
       "      <td>-11.0</td>\n",
       "      <td>no_title</td>\n",
       "      <td>no_title</td>\n",
       "      <td>7</td>\n",
       "      <td>C46</td>\n",
       "      <td>Normal</td>\n",
       "      <td>600+0</td>\n",
       "      <td>1642.5</td>\n",
       "      <td>C</td>\n",
       "      <td>46</td>\n",
       "      <td>600</td>\n",
       "    </tr>\n",
       "    <tr>\n",
       "      <th>3</th>\n",
       "      <td>Rated Blitz game</td>\n",
       "      <td>0-1</td>\n",
       "      <td>1757</td>\n",
       "      <td>-13.0</td>\n",
       "      <td>1659</td>\n",
       "      <td>14.0</td>\n",
       "      <td>no_title</td>\n",
       "      <td>no_title</td>\n",
       "      <td>-98</td>\n",
       "      <td>B00</td>\n",
       "      <td>Normal</td>\n",
       "      <td>300+0</td>\n",
       "      <td>1708.0</td>\n",
       "      <td>B</td>\n",
       "      <td>00</td>\n",
       "      <td>300</td>\n",
       "    </tr>\n",
       "    <tr>\n",
       "      <th>4</th>\n",
       "      <td>Rated Classical tournament</td>\n",
       "      <td>0-1</td>\n",
       "      <td>1829</td>\n",
       "      <td>-11.0</td>\n",
       "      <td>1857</td>\n",
       "      <td>11.0</td>\n",
       "      <td>no_title</td>\n",
       "      <td>no_title</td>\n",
       "      <td>28</td>\n",
       "      <td>A43</td>\n",
       "      <td>Normal</td>\n",
       "      <td>600+0</td>\n",
       "      <td>1843.0</td>\n",
       "      <td>A</td>\n",
       "      <td>43</td>\n",
       "      <td>600</td>\n",
       "    </tr>\n",
       "  </tbody>\n",
       "</table>\n",
       "</div>"
      ],
      "text/plain": [
       "                        event result  white_elo  white_rating_diff  black_elo  \\\n",
       "0           Rated Bullet game    1-0       1601               16.0       1793   \n",
       "1      Rated Blitz tournament    0-1       1532              -12.0       1541   \n",
       "2        Rated Classical game    1-0       1646               11.0       1639   \n",
       "3            Rated Blitz game    0-1       1757              -13.0       1659   \n",
       "4  Rated Classical tournament    0-1       1829              -11.0       1857   \n",
       "\n",
       "   black_rating_diff white_title black_title  winner_loser_elo_diff  eco  \\\n",
       "0              -17.0    no_title    no_title                   -192  A02   \n",
       "1               22.0    no_title    no_title                      9  C45   \n",
       "2              -11.0    no_title    no_title                      7  C46   \n",
       "3               14.0    no_title    no_title                    -98  B00   \n",
       "4               11.0    no_title    no_title                     28  A43   \n",
       "\n",
       "    termination time_control  avg_elo_between_players eco_fl eco_#  \\\n",
       "0  Time forfeit        120+1                   1697.0      A    02   \n",
       "1        Normal        300+0                   1536.5      C    45   \n",
       "2        Normal        600+0                   1642.5      C    46   \n",
       "3        Normal        300+0                   1708.0      B    00   \n",
       "4        Normal        600+0                   1843.0      A    43   \n",
       "\n",
       "  regular_seconds_per_player  \n",
       "0                        120  \n",
       "1                        300  \n",
       "2                        600  \n",
       "3                        300  \n",
       "4                        600  "
      ]
     },
     "execution_count": 243,
     "metadata": {},
     "output_type": "execute_result"
    }
   ],
   "source": [
    "regular_seconds_per_player = [item[0] for item in split_list] # as opposed to the incremental seconds per player; I am not going to worry about those for simplicity's sake\n",
    "time_control_df['regular_seconds_per_player'] = regular_seconds_per_player\n",
    "time_control_df.head()"
   ]
  },
  {
   "cell_type": "code",
   "execution_count": 304,
   "metadata": {},
   "outputs": [
    {
     "data": {
      "text/html": [
       "<div>\n",
       "<style scoped>\n",
       "    .dataframe tbody tr th:only-of-type {\n",
       "        vertical-align: middle;\n",
       "    }\n",
       "\n",
       "    .dataframe tbody tr th {\n",
       "        vertical-align: top;\n",
       "    }\n",
       "\n",
       "    .dataframe thead th {\n",
       "        text-align: right;\n",
       "    }\n",
       "</style>\n",
       "<table border=\"1\" class=\"dataframe\">\n",
       "  <thead>\n",
       "    <tr style=\"text-align: right;\">\n",
       "      <th></th>\n",
       "      <th>games_lost_by_time_forfeit</th>\n",
       "    </tr>\n",
       "    <tr>\n",
       "      <th>regular_seconds_per_player</th>\n",
       "      <th></th>\n",
       "    </tr>\n",
       "  </thead>\n",
       "  <tbody>\n",
       "    <tr>\n",
       "      <th>0</th>\n",
       "      <td>3808</td>\n",
       "    </tr>\n",
       "    <tr>\n",
       "      <th>30</th>\n",
       "      <td>15600</td>\n",
       "    </tr>\n",
       "    <tr>\n",
       "      <th>45</th>\n",
       "      <td>873</td>\n",
       "    </tr>\n",
       "    <tr>\n",
       "      <th>60</th>\n",
       "      <td>35908</td>\n",
       "    </tr>\n",
       "    <tr>\n",
       "      <th>90</th>\n",
       "      <td>863</td>\n",
       "    </tr>\n",
       "  </tbody>\n",
       "</table>\n",
       "</div>"
      ],
      "text/plain": [
       "                            games_lost_by_time_forfeit\n",
       "regular_seconds_per_player                            \n",
       "0                                                 3808\n",
       "30                                               15600\n",
       "45                                                 873\n",
       "60                                               35908\n",
       "90                                                 863"
      ]
     },
     "execution_count": 304,
     "metadata": {},
     "output_type": "execute_result"
    }
   ],
   "source": [
    "time_forfeits_per_time_format = time_control_df[time_control_df['termination'] == 'Time forfeit']['regular_seconds_per_player'].value_counts().to_frame()\n",
    "time_forfeits_per_time_format.rename_axis('regular_seconds_per_player', inplace = True)\n",
    "time_forfeits_per_time_format.rename(columns = {'regular_seconds_per_player': 'games_lost_by_time_forfeit'}, inplace = True)\n",
    "time_forfeits_per_time_format.index = pd.to_numeric(time_forfeits_per_time_format.index)\n",
    "time_forfeits_per_time_format = time_forfeits_per_time_format.sort_index()\n",
    "time_forfeits_per_time_format.head()"
   ]
  },
  {
   "cell_type": "code",
   "execution_count": 305,
   "metadata": {},
   "outputs": [
    {
     "data": {
      "text/html": [
       "<div>\n",
       "<style scoped>\n",
       "    .dataframe tbody tr th:only-of-type {\n",
       "        vertical-align: middle;\n",
       "    }\n",
       "\n",
       "    .dataframe tbody tr th {\n",
       "        vertical-align: top;\n",
       "    }\n",
       "\n",
       "    .dataframe thead th {\n",
       "        text-align: right;\n",
       "    }\n",
       "</style>\n",
       "<table border=\"1\" class=\"dataframe\">\n",
       "  <thead>\n",
       "    <tr style=\"text-align: right;\">\n",
       "      <th></th>\n",
       "      <th>total_games</th>\n",
       "    </tr>\n",
       "    <tr>\n",
       "      <th>regular_seconds_per_player</th>\n",
       "      <th></th>\n",
       "    </tr>\n",
       "  </thead>\n",
       "  <tbody>\n",
       "    <tr>\n",
       "      <th>0</th>\n",
       "      <td>7247</td>\n",
       "    </tr>\n",
       "    <tr>\n",
       "      <th>30</th>\n",
       "      <td>23672</td>\n",
       "    </tr>\n",
       "    <tr>\n",
       "      <th>45</th>\n",
       "      <td>2281</td>\n",
       "    </tr>\n",
       "    <tr>\n",
       "      <th>60</th>\n",
       "      <td>68362</td>\n",
       "    </tr>\n",
       "    <tr>\n",
       "      <th>90</th>\n",
       "      <td>2203</td>\n",
       "    </tr>\n",
       "  </tbody>\n",
       "</table>\n",
       "</div>"
      ],
      "text/plain": [
       "                            total_games\n",
       "regular_seconds_per_player             \n",
       "0                                  7247\n",
       "30                                23672\n",
       "45                                 2281\n",
       "60                                68362\n",
       "90                                 2203"
      ]
     },
     "execution_count": 305,
     "metadata": {},
     "output_type": "execute_result"
    }
   ],
   "source": [
    "total_games_per_time_control_format = time_control_df['regular_seconds_per_player'].value_counts().to_frame()\n",
    "total_games_per_time_control_format.rename_axis('regular_seconds_per_player', inplace = True)\n",
    "total_games_per_time_control_format.rename(columns = {'regular_seconds_per_player': 'total_games'}, inplace = True)\n",
    "total_games_per_time_control_format.index = pd.to_numeric(total_games_per_time_control_format.index)\n",
    "total_games_per_time_control_format = total_games_per_time_control_format.sort_index()\n",
    "total_games_per_time_control_format.head()"
   ]
  },
  {
   "cell_type": "code",
   "execution_count": 339,
   "metadata": {},
   "outputs": [
    {
     "data": {
      "text/html": [
       "<div>\n",
       "<style scoped>\n",
       "    .dataframe tbody tr th:only-of-type {\n",
       "        vertical-align: middle;\n",
       "    }\n",
       "\n",
       "    .dataframe tbody tr th {\n",
       "        vertical-align: top;\n",
       "    }\n",
       "\n",
       "    .dataframe thead th {\n",
       "        text-align: right;\n",
       "    }\n",
       "</style>\n",
       "<table border=\"1\" class=\"dataframe\">\n",
       "  <thead>\n",
       "    <tr style=\"text-align: right;\">\n",
       "      <th></th>\n",
       "      <th>games_lost_by_time_forfeit</th>\n",
       "      <th>total_games</th>\n",
       "      <th>proportion_percentage_lost_by_time</th>\n",
       "    </tr>\n",
       "    <tr>\n",
       "      <th>regular_seconds_per_player</th>\n",
       "      <th></th>\n",
       "      <th></th>\n",
       "      <th></th>\n",
       "    </tr>\n",
       "  </thead>\n",
       "  <tbody>\n",
       "    <tr>\n",
       "      <th>0</th>\n",
       "      <td>3808</td>\n",
       "      <td>7247</td>\n",
       "      <td>52.55</td>\n",
       "    </tr>\n",
       "    <tr>\n",
       "      <th>30</th>\n",
       "      <td>15600</td>\n",
       "      <td>23672</td>\n",
       "      <td>65.90</td>\n",
       "    </tr>\n",
       "    <tr>\n",
       "      <th>45</th>\n",
       "      <td>873</td>\n",
       "      <td>2281</td>\n",
       "      <td>38.27</td>\n",
       "    </tr>\n",
       "    <tr>\n",
       "      <th>60</th>\n",
       "      <td>35908</td>\n",
       "      <td>68362</td>\n",
       "      <td>52.53</td>\n",
       "    </tr>\n",
       "    <tr>\n",
       "      <th>90</th>\n",
       "      <td>863</td>\n",
       "      <td>2203</td>\n",
       "      <td>39.17</td>\n",
       "    </tr>\n",
       "    <tr>\n",
       "      <th>120</th>\n",
       "      <td>10127</td>\n",
       "      <td>25363</td>\n",
       "      <td>39.93</td>\n",
       "    </tr>\n",
       "    <tr>\n",
       "      <th>180</th>\n",
       "      <td>22994</td>\n",
       "      <td>75400</td>\n",
       "      <td>30.50</td>\n",
       "    </tr>\n",
       "    <tr>\n",
       "      <th>240</th>\n",
       "      <td>2108</td>\n",
       "      <td>8073</td>\n",
       "      <td>26.11</td>\n",
       "    </tr>\n",
       "    <tr>\n",
       "      <th>300</th>\n",
       "      <td>23075</td>\n",
       "      <td>100903</td>\n",
       "      <td>22.87</td>\n",
       "    </tr>\n",
       "    <tr>\n",
       "      <th>360</th>\n",
       "      <td>1224</td>\n",
       "      <td>5349</td>\n",
       "      <td>22.88</td>\n",
       "    </tr>\n",
       "    <tr>\n",
       "      <th>420</th>\n",
       "      <td>1826</td>\n",
       "      <td>8698</td>\n",
       "      <td>20.99</td>\n",
       "    </tr>\n",
       "    <tr>\n",
       "      <th>480</th>\n",
       "      <td>1558</td>\n",
       "      <td>9315</td>\n",
       "      <td>16.73</td>\n",
       "    </tr>\n",
       "    <tr>\n",
       "      <th>540</th>\n",
       "      <td>331</td>\n",
       "      <td>1733</td>\n",
       "      <td>19.10</td>\n",
       "    </tr>\n",
       "    <tr>\n",
       "      <th>600</th>\n",
       "      <td>7281</td>\n",
       "      <td>44634</td>\n",
       "      <td>16.31</td>\n",
       "    </tr>\n",
       "    <tr>\n",
       "      <th>660</th>\n",
       "      <td>116</td>\n",
       "      <td>695</td>\n",
       "      <td>16.69</td>\n",
       "    </tr>\n",
       "    <tr>\n",
       "      <th>720</th>\n",
       "      <td>247</td>\n",
       "      <td>1836</td>\n",
       "      <td>13.45</td>\n",
       "    </tr>\n",
       "    <tr>\n",
       "      <th>780</th>\n",
       "      <td>82</td>\n",
       "      <td>511</td>\n",
       "      <td>16.05</td>\n",
       "    </tr>\n",
       "    <tr>\n",
       "      <th>840</th>\n",
       "      <td>57</td>\n",
       "      <td>389</td>\n",
       "      <td>14.65</td>\n",
       "    </tr>\n",
       "    <tr>\n",
       "      <th>900</th>\n",
       "      <td>2309</td>\n",
       "      <td>15912</td>\n",
       "      <td>14.51</td>\n",
       "    </tr>\n",
       "    <tr>\n",
       "      <th>960</th>\n",
       "      <td>30</td>\n",
       "      <td>245</td>\n",
       "      <td>12.24</td>\n",
       "    </tr>\n",
       "    <tr>\n",
       "      <th>1020</th>\n",
       "      <td>23</td>\n",
       "      <td>155</td>\n",
       "      <td>14.84</td>\n",
       "    </tr>\n",
       "    <tr>\n",
       "      <th>1080</th>\n",
       "      <td>32</td>\n",
       "      <td>239</td>\n",
       "      <td>13.39</td>\n",
       "    </tr>\n",
       "    <tr>\n",
       "      <th>1140</th>\n",
       "      <td>12</td>\n",
       "      <td>123</td>\n",
       "      <td>9.76</td>\n",
       "    </tr>\n",
       "    <tr>\n",
       "      <th>1200</th>\n",
       "      <td>759</td>\n",
       "      <td>5499</td>\n",
       "      <td>13.80</td>\n",
       "    </tr>\n",
       "    <tr>\n",
       "      <th>1500</th>\n",
       "      <td>157</td>\n",
       "      <td>1139</td>\n",
       "      <td>13.78</td>\n",
       "    </tr>\n",
       "    <tr>\n",
       "      <th>1800</th>\n",
       "      <td>426</td>\n",
       "      <td>2681</td>\n",
       "      <td>15.89</td>\n",
       "    </tr>\n",
       "    <tr>\n",
       "      <th>2100</th>\n",
       "      <td>20</td>\n",
       "      <td>124</td>\n",
       "      <td>16.13</td>\n",
       "    </tr>\n",
       "    <tr>\n",
       "      <th>2400</th>\n",
       "      <td>25</td>\n",
       "      <td>183</td>\n",
       "      <td>13.66</td>\n",
       "    </tr>\n",
       "    <tr>\n",
       "      <th>2700</th>\n",
       "      <td>46</td>\n",
       "      <td>324</td>\n",
       "      <td>14.20</td>\n",
       "    </tr>\n",
       "    <tr>\n",
       "      <th>3600</th>\n",
       "      <td>87</td>\n",
       "      <td>437</td>\n",
       "      <td>19.91</td>\n",
       "    </tr>\n",
       "    <tr>\n",
       "      <th>5400</th>\n",
       "      <td>20</td>\n",
       "      <td>82</td>\n",
       "      <td>24.39</td>\n",
       "    </tr>\n",
       "    <tr>\n",
       "      <th>7200</th>\n",
       "      <td>11</td>\n",
       "      <td>34</td>\n",
       "      <td>32.35</td>\n",
       "    </tr>\n",
       "    <tr>\n",
       "      <th>9000</th>\n",
       "      <td>2</td>\n",
       "      <td>12</td>\n",
       "      <td>16.67</td>\n",
       "    </tr>\n",
       "    <tr>\n",
       "      <th>10800</th>\n",
       "      <td>43</td>\n",
       "      <td>214</td>\n",
       "      <td>20.09</td>\n",
       "    </tr>\n",
       "  </tbody>\n",
       "</table>\n",
       "</div>"
      ],
      "text/plain": [
       "                            games_lost_by_time_forfeit  total_games  \\\n",
       "regular_seconds_per_player                                            \n",
       "0                                                 3808         7247   \n",
       "30                                               15600        23672   \n",
       "45                                                 873         2281   \n",
       "60                                               35908        68362   \n",
       "90                                                 863         2203   \n",
       "120                                              10127        25363   \n",
       "180                                              22994        75400   \n",
       "240                                               2108         8073   \n",
       "300                                              23075       100903   \n",
       "360                                               1224         5349   \n",
       "420                                               1826         8698   \n",
       "480                                               1558         9315   \n",
       "540                                                331         1733   \n",
       "600                                               7281        44634   \n",
       "660                                                116          695   \n",
       "720                                                247         1836   \n",
       "780                                                 82          511   \n",
       "840                                                 57          389   \n",
       "900                                               2309        15912   \n",
       "960                                                 30          245   \n",
       "1020                                                23          155   \n",
       "1080                                                32          239   \n",
       "1140                                                12          123   \n",
       "1200                                               759         5499   \n",
       "1500                                               157         1139   \n",
       "1800                                               426         2681   \n",
       "2100                                                20          124   \n",
       "2400                                                25          183   \n",
       "2700                                                46          324   \n",
       "3600                                                87          437   \n",
       "5400                                                20           82   \n",
       "7200                                                11           34   \n",
       "9000                                                 2           12   \n",
       "10800                                               43          214   \n",
       "\n",
       "                            proportion_percentage_lost_by_time  \n",
       "regular_seconds_per_player                                      \n",
       "0                                                        52.55  \n",
       "30                                                       65.90  \n",
       "45                                                       38.27  \n",
       "60                                                       52.53  \n",
       "90                                                       39.17  \n",
       "120                                                      39.93  \n",
       "180                                                      30.50  \n",
       "240                                                      26.11  \n",
       "300                                                      22.87  \n",
       "360                                                      22.88  \n",
       "420                                                      20.99  \n",
       "480                                                      16.73  \n",
       "540                                                      19.10  \n",
       "600                                                      16.31  \n",
       "660                                                      16.69  \n",
       "720                                                      13.45  \n",
       "780                                                      16.05  \n",
       "840                                                      14.65  \n",
       "900                                                      14.51  \n",
       "960                                                      12.24  \n",
       "1020                                                     14.84  \n",
       "1080                                                     13.39  \n",
       "1140                                                      9.76  \n",
       "1200                                                     13.80  \n",
       "1500                                                     13.78  \n",
       "1800                                                     15.89  \n",
       "2100                                                     16.13  \n",
       "2400                                                     13.66  \n",
       "2700                                                     14.20  \n",
       "3600                                                     19.91  \n",
       "5400                                                     24.39  \n",
       "7200                                                     32.35  \n",
       "9000                                                     16.67  \n",
       "10800                                                    20.09  "
      ]
     },
     "execution_count": 339,
     "metadata": {},
     "output_type": "execute_result"
    }
   ],
   "source": [
    "merged_time_forfeit_df = time_forfeits_per_time_format.merge(total_games_per_time_control_format, left_on = 'regular_seconds_per_player', right_on = 'regular_seconds_per_player')\n",
    "merged_time_forfeit_df['proportion_percentage_lost_by_time'] = (merged_time_forfeit_df['games_lost_by_time_forfeit'] / merged_time_forfeit_df['total_games'] * 100).round(2)\n",
    "merged_time_forfeit_df\n"
   ]
  },
  {
   "cell_type": "markdown",
   "metadata": {},
   "source": [
    "Just a little sidenote: a value of \"0\" for the regular_seconds_per_player just means that the players are just playing with a time increment per side. "
   ]
  },
  {
   "cell_type": "code",
   "execution_count": 361,
   "metadata": {},
   "outputs": [
    {
     "data": {
      "application/vnd.plotly.v1+json": {
       "config": {
        "plotlyServerURL": "https://plot.ly"
       },
       "data": [
        {
         "hovertemplate": "Time (s) per Player=%{x}<br>Percentage (%) of Games Lost by Time=%{y}<extra></extra>",
         "legendgroup": "",
         "line": {
          "color": "#636efa"
         },
         "marker": {
          "symbol": "circle"
         },
         "mode": "markers+lines",
         "name": "",
         "orientation": "v",
         "showlegend": false,
         "stackgroup": "1",
         "type": "scatter",
         "x": [
          0,
          30,
          45,
          60,
          90,
          120,
          180,
          240,
          300,
          360,
          420,
          480,
          540,
          600,
          660,
          720,
          780,
          840,
          900,
          960,
          1020,
          1080,
          1140,
          1200,
          1500,
          1800,
          2100,
          2400,
          2700,
          3600,
          5400,
          7200,
          9000,
          10800
         ],
         "xaxis": "x",
         "y": [
          52.55,
          65.9,
          38.27,
          52.53,
          39.17,
          39.93,
          30.5,
          26.11,
          22.87,
          22.88,
          20.99,
          16.73,
          19.1,
          16.31,
          16.69,
          13.45,
          16.05,
          14.65,
          14.51,
          12.24,
          14.84,
          13.39,
          9.76,
          13.8,
          13.78,
          15.89,
          16.13,
          13.66,
          14.2,
          19.91,
          24.39,
          32.35,
          16.67,
          20.09
         ],
         "yaxis": "y"
        }
       ],
       "layout": {
        "hoverlabel": {
         "bgcolor": "white",
         "font": {
          "family": "Rockwell",
          "size": 16
         }
        },
        "hovermode": "x unified",
        "legend": {
         "tracegroupgap": 0
        },
        "template": {
         "data": {
          "bar": [
           {
            "error_x": {
             "color": "#2a3f5f"
            },
            "error_y": {
             "color": "#2a3f5f"
            },
            "marker": {
             "line": {
              "color": "#E5ECF6",
              "width": 0.5
             },
             "pattern": {
              "fillmode": "overlay",
              "size": 10,
              "solidity": 0.2
             }
            },
            "type": "bar"
           }
          ],
          "barpolar": [
           {
            "marker": {
             "line": {
              "color": "#E5ECF6",
              "width": 0.5
             },
             "pattern": {
              "fillmode": "overlay",
              "size": 10,
              "solidity": 0.2
             }
            },
            "type": "barpolar"
           }
          ],
          "carpet": [
           {
            "aaxis": {
             "endlinecolor": "#2a3f5f",
             "gridcolor": "white",
             "linecolor": "white",
             "minorgridcolor": "white",
             "startlinecolor": "#2a3f5f"
            },
            "baxis": {
             "endlinecolor": "#2a3f5f",
             "gridcolor": "white",
             "linecolor": "white",
             "minorgridcolor": "white",
             "startlinecolor": "#2a3f5f"
            },
            "type": "carpet"
           }
          ],
          "choropleth": [
           {
            "colorbar": {
             "outlinewidth": 0,
             "ticks": ""
            },
            "type": "choropleth"
           }
          ],
          "contour": [
           {
            "colorbar": {
             "outlinewidth": 0,
             "ticks": ""
            },
            "colorscale": [
             [
              0,
              "#0d0887"
             ],
             [
              0.1111111111111111,
              "#46039f"
             ],
             [
              0.2222222222222222,
              "#7201a8"
             ],
             [
              0.3333333333333333,
              "#9c179e"
             ],
             [
              0.4444444444444444,
              "#bd3786"
             ],
             [
              0.5555555555555556,
              "#d8576b"
             ],
             [
              0.6666666666666666,
              "#ed7953"
             ],
             [
              0.7777777777777778,
              "#fb9f3a"
             ],
             [
              0.8888888888888888,
              "#fdca26"
             ],
             [
              1,
              "#f0f921"
             ]
            ],
            "type": "contour"
           }
          ],
          "contourcarpet": [
           {
            "colorbar": {
             "outlinewidth": 0,
             "ticks": ""
            },
            "type": "contourcarpet"
           }
          ],
          "heatmap": [
           {
            "colorbar": {
             "outlinewidth": 0,
             "ticks": ""
            },
            "colorscale": [
             [
              0,
              "#0d0887"
             ],
             [
              0.1111111111111111,
              "#46039f"
             ],
             [
              0.2222222222222222,
              "#7201a8"
             ],
             [
              0.3333333333333333,
              "#9c179e"
             ],
             [
              0.4444444444444444,
              "#bd3786"
             ],
             [
              0.5555555555555556,
              "#d8576b"
             ],
             [
              0.6666666666666666,
              "#ed7953"
             ],
             [
              0.7777777777777778,
              "#fb9f3a"
             ],
             [
              0.8888888888888888,
              "#fdca26"
             ],
             [
              1,
              "#f0f921"
             ]
            ],
            "type": "heatmap"
           }
          ],
          "heatmapgl": [
           {
            "colorbar": {
             "outlinewidth": 0,
             "ticks": ""
            },
            "colorscale": [
             [
              0,
              "#0d0887"
             ],
             [
              0.1111111111111111,
              "#46039f"
             ],
             [
              0.2222222222222222,
              "#7201a8"
             ],
             [
              0.3333333333333333,
              "#9c179e"
             ],
             [
              0.4444444444444444,
              "#bd3786"
             ],
             [
              0.5555555555555556,
              "#d8576b"
             ],
             [
              0.6666666666666666,
              "#ed7953"
             ],
             [
              0.7777777777777778,
              "#fb9f3a"
             ],
             [
              0.8888888888888888,
              "#fdca26"
             ],
             [
              1,
              "#f0f921"
             ]
            ],
            "type": "heatmapgl"
           }
          ],
          "histogram": [
           {
            "marker": {
             "pattern": {
              "fillmode": "overlay",
              "size": 10,
              "solidity": 0.2
             }
            },
            "type": "histogram"
           }
          ],
          "histogram2d": [
           {
            "colorbar": {
             "outlinewidth": 0,
             "ticks": ""
            },
            "colorscale": [
             [
              0,
              "#0d0887"
             ],
             [
              0.1111111111111111,
              "#46039f"
             ],
             [
              0.2222222222222222,
              "#7201a8"
             ],
             [
              0.3333333333333333,
              "#9c179e"
             ],
             [
              0.4444444444444444,
              "#bd3786"
             ],
             [
              0.5555555555555556,
              "#d8576b"
             ],
             [
              0.6666666666666666,
              "#ed7953"
             ],
             [
              0.7777777777777778,
              "#fb9f3a"
             ],
             [
              0.8888888888888888,
              "#fdca26"
             ],
             [
              1,
              "#f0f921"
             ]
            ],
            "type": "histogram2d"
           }
          ],
          "histogram2dcontour": [
           {
            "colorbar": {
             "outlinewidth": 0,
             "ticks": ""
            },
            "colorscale": [
             [
              0,
              "#0d0887"
             ],
             [
              0.1111111111111111,
              "#46039f"
             ],
             [
              0.2222222222222222,
              "#7201a8"
             ],
             [
              0.3333333333333333,
              "#9c179e"
             ],
             [
              0.4444444444444444,
              "#bd3786"
             ],
             [
              0.5555555555555556,
              "#d8576b"
             ],
             [
              0.6666666666666666,
              "#ed7953"
             ],
             [
              0.7777777777777778,
              "#fb9f3a"
             ],
             [
              0.8888888888888888,
              "#fdca26"
             ],
             [
              1,
              "#f0f921"
             ]
            ],
            "type": "histogram2dcontour"
           }
          ],
          "mesh3d": [
           {
            "colorbar": {
             "outlinewidth": 0,
             "ticks": ""
            },
            "type": "mesh3d"
           }
          ],
          "parcoords": [
           {
            "line": {
             "colorbar": {
              "outlinewidth": 0,
              "ticks": ""
             }
            },
            "type": "parcoords"
           }
          ],
          "pie": [
           {
            "automargin": true,
            "type": "pie"
           }
          ],
          "scatter": [
           {
            "marker": {
             "colorbar": {
              "outlinewidth": 0,
              "ticks": ""
             }
            },
            "type": "scatter"
           }
          ],
          "scatter3d": [
           {
            "line": {
             "colorbar": {
              "outlinewidth": 0,
              "ticks": ""
             }
            },
            "marker": {
             "colorbar": {
              "outlinewidth": 0,
              "ticks": ""
             }
            },
            "type": "scatter3d"
           }
          ],
          "scattercarpet": [
           {
            "marker": {
             "colorbar": {
              "outlinewidth": 0,
              "ticks": ""
             }
            },
            "type": "scattercarpet"
           }
          ],
          "scattergeo": [
           {
            "marker": {
             "colorbar": {
              "outlinewidth": 0,
              "ticks": ""
             }
            },
            "type": "scattergeo"
           }
          ],
          "scattergl": [
           {
            "marker": {
             "colorbar": {
              "outlinewidth": 0,
              "ticks": ""
             }
            },
            "type": "scattergl"
           }
          ],
          "scattermapbox": [
           {
            "marker": {
             "colorbar": {
              "outlinewidth": 0,
              "ticks": ""
             }
            },
            "type": "scattermapbox"
           }
          ],
          "scatterpolar": [
           {
            "marker": {
             "colorbar": {
              "outlinewidth": 0,
              "ticks": ""
             }
            },
            "type": "scatterpolar"
           }
          ],
          "scatterpolargl": [
           {
            "marker": {
             "colorbar": {
              "outlinewidth": 0,
              "ticks": ""
             }
            },
            "type": "scatterpolargl"
           }
          ],
          "scatterternary": [
           {
            "marker": {
             "colorbar": {
              "outlinewidth": 0,
              "ticks": ""
             }
            },
            "type": "scatterternary"
           }
          ],
          "surface": [
           {
            "colorbar": {
             "outlinewidth": 0,
             "ticks": ""
            },
            "colorscale": [
             [
              0,
              "#0d0887"
             ],
             [
              0.1111111111111111,
              "#46039f"
             ],
             [
              0.2222222222222222,
              "#7201a8"
             ],
             [
              0.3333333333333333,
              "#9c179e"
             ],
             [
              0.4444444444444444,
              "#bd3786"
             ],
             [
              0.5555555555555556,
              "#d8576b"
             ],
             [
              0.6666666666666666,
              "#ed7953"
             ],
             [
              0.7777777777777778,
              "#fb9f3a"
             ],
             [
              0.8888888888888888,
              "#fdca26"
             ],
             [
              1,
              "#f0f921"
             ]
            ],
            "type": "surface"
           }
          ],
          "table": [
           {
            "cells": {
             "fill": {
              "color": "#EBF0F8"
             },
             "line": {
              "color": "white"
             }
            },
            "header": {
             "fill": {
              "color": "#C8D4E3"
             },
             "line": {
              "color": "white"
             }
            },
            "type": "table"
           }
          ]
         },
         "layout": {
          "annotationdefaults": {
           "arrowcolor": "#2a3f5f",
           "arrowhead": 0,
           "arrowwidth": 1
          },
          "autotypenumbers": "strict",
          "coloraxis": {
           "colorbar": {
            "outlinewidth": 0,
            "ticks": ""
           }
          },
          "colorscale": {
           "diverging": [
            [
             0,
             "#8e0152"
            ],
            [
             0.1,
             "#c51b7d"
            ],
            [
             0.2,
             "#de77ae"
            ],
            [
             0.3,
             "#f1b6da"
            ],
            [
             0.4,
             "#fde0ef"
            ],
            [
             0.5,
             "#f7f7f7"
            ],
            [
             0.6,
             "#e6f5d0"
            ],
            [
             0.7,
             "#b8e186"
            ],
            [
             0.8,
             "#7fbc41"
            ],
            [
             0.9,
             "#4d9221"
            ],
            [
             1,
             "#276419"
            ]
           ],
           "sequential": [
            [
             0,
             "#0d0887"
            ],
            [
             0.1111111111111111,
             "#46039f"
            ],
            [
             0.2222222222222222,
             "#7201a8"
            ],
            [
             0.3333333333333333,
             "#9c179e"
            ],
            [
             0.4444444444444444,
             "#bd3786"
            ],
            [
             0.5555555555555556,
             "#d8576b"
            ],
            [
             0.6666666666666666,
             "#ed7953"
            ],
            [
             0.7777777777777778,
             "#fb9f3a"
            ],
            [
             0.8888888888888888,
             "#fdca26"
            ],
            [
             1,
             "#f0f921"
            ]
           ],
           "sequentialminus": [
            [
             0,
             "#0d0887"
            ],
            [
             0.1111111111111111,
             "#46039f"
            ],
            [
             0.2222222222222222,
             "#7201a8"
            ],
            [
             0.3333333333333333,
             "#9c179e"
            ],
            [
             0.4444444444444444,
             "#bd3786"
            ],
            [
             0.5555555555555556,
             "#d8576b"
            ],
            [
             0.6666666666666666,
             "#ed7953"
            ],
            [
             0.7777777777777778,
             "#fb9f3a"
            ],
            [
             0.8888888888888888,
             "#fdca26"
            ],
            [
             1,
             "#f0f921"
            ]
           ]
          },
          "colorway": [
           "#636efa",
           "#EF553B",
           "#00cc96",
           "#ab63fa",
           "#FFA15A",
           "#19d3f3",
           "#FF6692",
           "#B6E880",
           "#FF97FF",
           "#FECB52"
          ],
          "font": {
           "color": "#2a3f5f"
          },
          "geo": {
           "bgcolor": "white",
           "lakecolor": "white",
           "landcolor": "#E5ECF6",
           "showlakes": true,
           "showland": true,
           "subunitcolor": "white"
          },
          "hoverlabel": {
           "align": "left"
          },
          "hovermode": "closest",
          "mapbox": {
           "style": "light"
          },
          "paper_bgcolor": "white",
          "plot_bgcolor": "#E5ECF6",
          "polar": {
           "angularaxis": {
            "gridcolor": "white",
            "linecolor": "white",
            "ticks": ""
           },
           "bgcolor": "#E5ECF6",
           "radialaxis": {
            "gridcolor": "white",
            "linecolor": "white",
            "ticks": ""
           }
          },
          "scene": {
           "xaxis": {
            "backgroundcolor": "#E5ECF6",
            "gridcolor": "white",
            "gridwidth": 2,
            "linecolor": "white",
            "showbackground": true,
            "ticks": "",
            "zerolinecolor": "white"
           },
           "yaxis": {
            "backgroundcolor": "#E5ECF6",
            "gridcolor": "white",
            "gridwidth": 2,
            "linecolor": "white",
            "showbackground": true,
            "ticks": "",
            "zerolinecolor": "white"
           },
           "zaxis": {
            "backgroundcolor": "#E5ECF6",
            "gridcolor": "white",
            "gridwidth": 2,
            "linecolor": "white",
            "showbackground": true,
            "ticks": "",
            "zerolinecolor": "white"
           }
          },
          "shapedefaults": {
           "line": {
            "color": "#2a3f5f"
           }
          },
          "ternary": {
           "aaxis": {
            "gridcolor": "white",
            "linecolor": "white",
            "ticks": ""
           },
           "baxis": {
            "gridcolor": "white",
            "linecolor": "white",
            "ticks": ""
           },
           "bgcolor": "#E5ECF6",
           "caxis": {
            "gridcolor": "white",
            "linecolor": "white",
            "ticks": ""
           }
          },
          "title": {
           "x": 0.05
          },
          "xaxis": {
           "automargin": true,
           "gridcolor": "white",
           "linecolor": "white",
           "ticks": "",
           "title": {
            "standoff": 15
           },
           "zerolinecolor": "white",
           "zerolinewidth": 2
          },
          "yaxis": {
           "automargin": true,
           "gridcolor": "white",
           "linecolor": "white",
           "ticks": "",
           "title": {
            "standoff": 15
           },
           "zerolinecolor": "white",
           "zerolinewidth": 2
          }
         }
        },
        "title": {
         "text": "Percentage of Games Lost by Time for Time Alotted per Player"
        },
        "xaxis": {
         "anchor": "y",
         "domain": [
          0,
          1
         ],
         "title": {
          "text": "Time (s) per Player"
         }
        },
        "yaxis": {
         "anchor": "x",
         "domain": [
          0,
          1
         ],
         "title": {
          "text": "Percentage (%) of Games Lost by Time"
         }
        }
       }
      }
     },
     "metadata": {},
     "output_type": "display_data"
    }
   ],
   "source": [
    "fig = px.area(merged_time_forfeit_df, x = merged_time_forfeit_df.index, y = 'proportion_percentage_lost_by_time', \n",
    "    title = 'Percentage of Games Lost by Time for Time Alotted per Player', markers = True, \n",
    "    labels = {'regular_seconds_per_player': 'Time (s) per Player','proportion_percentage_lost_by_time': 'Percentage (%) of Games Lost by Time'})\n",
    "\n",
    "fig.update_layout(\n",
    "    hoverlabel=dict(\n",
    "        bgcolor=\"white\",\n",
    "        font_size=16,\n",
    "        font_family=\"Rockwell\"\n",
    "    )\n",
    ")\n",
    "fig.update_layout(hovermode=\"x unified\")\n",
    "fig.show(\"png\")"
   ]
  },
  {
   "cell_type": "markdown",
   "metadata": {},
   "source": [
    "There appears to be a downward trend alotted time values below 2000 seconds, followed by an increase upward until 7200 seconds followed again by a downard trend. Let's look at the dataframe at and past 3600 seconds to investigate this further."
   ]
  },
  {
   "cell_type": "code",
   "execution_count": 363,
   "metadata": {},
   "outputs": [
    {
     "data": {
      "text/html": [
       "<div>\n",
       "<style scoped>\n",
       "    .dataframe tbody tr th:only-of-type {\n",
       "        vertical-align: middle;\n",
       "    }\n",
       "\n",
       "    .dataframe tbody tr th {\n",
       "        vertical-align: top;\n",
       "    }\n",
       "\n",
       "    .dataframe thead th {\n",
       "        text-align: right;\n",
       "    }\n",
       "</style>\n",
       "<table border=\"1\" class=\"dataframe\">\n",
       "  <thead>\n",
       "    <tr style=\"text-align: right;\">\n",
       "      <th></th>\n",
       "      <th>games_lost_by_time_forfeit</th>\n",
       "      <th>total_games</th>\n",
       "      <th>proportion_percentage_lost_by_time</th>\n",
       "    </tr>\n",
       "    <tr>\n",
       "      <th>regular_seconds_per_player</th>\n",
       "      <th></th>\n",
       "      <th></th>\n",
       "      <th></th>\n",
       "    </tr>\n",
       "  </thead>\n",
       "  <tbody>\n",
       "    <tr>\n",
       "      <th>3600</th>\n",
       "      <td>87</td>\n",
       "      <td>437</td>\n",
       "      <td>19.91</td>\n",
       "    </tr>\n",
       "    <tr>\n",
       "      <th>5400</th>\n",
       "      <td>20</td>\n",
       "      <td>82</td>\n",
       "      <td>24.39</td>\n",
       "    </tr>\n",
       "    <tr>\n",
       "      <th>7200</th>\n",
       "      <td>11</td>\n",
       "      <td>34</td>\n",
       "      <td>32.35</td>\n",
       "    </tr>\n",
       "    <tr>\n",
       "      <th>9000</th>\n",
       "      <td>2</td>\n",
       "      <td>12</td>\n",
       "      <td>16.67</td>\n",
       "    </tr>\n",
       "    <tr>\n",
       "      <th>10800</th>\n",
       "      <td>43</td>\n",
       "      <td>214</td>\n",
       "      <td>20.09</td>\n",
       "    </tr>\n",
       "  </tbody>\n",
       "</table>\n",
       "</div>"
      ],
      "text/plain": [
       "                            games_lost_by_time_forfeit  total_games  \\\n",
       "regular_seconds_per_player                                            \n",
       "3600                                                87          437   \n",
       "5400                                                20           82   \n",
       "7200                                                11           34   \n",
       "9000                                                 2           12   \n",
       "10800                                               43          214   \n",
       "\n",
       "                            proportion_percentage_lost_by_time  \n",
       "regular_seconds_per_player                                      \n",
       "3600                                                     19.91  \n",
       "5400                                                     24.39  \n",
       "7200                                                     32.35  \n",
       "9000                                                     16.67  \n",
       "10800                                                    20.09  "
      ]
     },
     "execution_count": 363,
     "metadata": {},
     "output_type": "execute_result"
    }
   ],
   "source": [
    "merged_time_forfeit_df[merged_time_forfeit_df.index >= 3600]"
   ]
  },
  {
   "cell_type": "markdown",
   "metadata": {},
   "source": [
    "Games with alotted time values of 5400, 7200, and 9000 have fewer total games have significantly fewer games than the rest of the categories.  Some error could exist here because of the relatively smaller sizes in these groups, thus explaining the upward trend in the proportions of games lost by time seen in this subsect."
   ]
  },
  {
   "cell_type": "markdown",
   "metadata": {},
   "source": [
    "***"
   ]
  }
 ],
 "metadata": {
  "interpreter": {
   "hash": "43d47e62e23350473fd91b8fe252f54e382b53c7d11764dce941b85e517cbfb2"
  },
  "kernelspec": {
   "display_name": "Python 3.9.7 64-bit ('minimal_ds': conda)",
   "name": "python3"
  },
  "language_info": {
   "codemirror_mode": {
    "name": "ipython",
    "version": 3
   },
   "file_extension": ".py",
   "mimetype": "text/x-python",
   "name": "python",
   "nbconvert_exporter": "python",
   "pygments_lexer": "ipython3",
   "version": "3.9.7"
  },
  "orig_nbformat": 4
 },
 "nbformat": 4,
 "nbformat_minor": 2
}
